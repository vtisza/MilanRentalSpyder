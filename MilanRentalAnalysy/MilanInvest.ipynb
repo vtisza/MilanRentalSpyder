{
 "cells": [
  {
   "cell_type": "markdown",
   "metadata": {},
   "source": [
    "## Budapest ingatlanbefetetésre ajánlott kerületei"
   ]
  },
  {
   "cell_type": "code",
   "execution_count": 82,
   "metadata": {
    "collapsed": false
   },
   "outputs": [],
   "source": [
    "sale_raw<-read.csv2(\"idealista_buy.csv\", as.is=T, sep=\",\")\n",
    "rent_raw<-read.csv2(\"idealista_rent.csv\", as.is=T, sep=\",\")"
   ]
  },
  {
   "cell_type": "code",
   "execution_count": 83,
   "metadata": {
    "collapsed": false
   },
   "outputs": [
    {
     "data": {
      "text/html": [
       "<table>\n",
       "<thead><tr><th scope=col>elevator</th><th scope=col>rooms</th><th scope=col>address</th><th scope=col>price</th><th scope=col>size</th></tr></thead>\n",
       "<tbody>\n",
       "\t<tr><td> con ascensore                                                       </td><td>NA                                                                   </td><td>Monolocale in corso di porta nuova, 52, Moscova-Repubblica, Milano   </td><td>680                                                                  </td><td>27                                                                   </td></tr>\n",
       "\t<tr><td>                                                                     </td><td> 2                                                                   </td><td>Bilocale in via privata catone, 29, Dergano, Milano                  </td><td>700                                                                  </td><td>80                                                                   </td></tr>\n",
       "\t<tr><td> con ascensore                                                       </td><td> 3                                                                   </td><td>Trilocale in via giuseppe garibaldi, 94, Cinisello, Cinisello Balsamo</td><td>800                                                                  </td><td>88                                                                   </td></tr>\n",
       "\t<tr><td> con ascensore                                                       </td><td> 2                                                                   </td><td>Bilocale in via luigi guanella, 4, Precotto, Milano                  </td><td>800                                                                  </td><td>40                                                                   </td></tr>\n",
       "\t<tr><td> senza ascensore                                                     </td><td> 3                                                                   </td><td>Trilocale in via privata galeno, 18, Precotto, Milano                </td><td>950                                                                  </td><td>85                                                                   </td></tr>\n",
       "\t<tr><td> con ascensore                                                       </td><td> 2                                                                   </td><td>Bilocale in via beato angelico, 23, Città Studi, Milano              </td><td>1.000                                                                </td><td>70                                                                   </td></tr>\n",
       "</tbody>\n",
       "</table>\n"
      ],
      "text/latex": [
       "\\begin{tabular}{r|lllll}\n",
       " elevator & rooms & address & price & size\\\\\n",
       "\\hline\n",
       "\t  con ascensore                                                        & NA                                                                    & Monolocale in corso di porta nuova, 52, Moscova-Repubblica, Milano    & 680                                                                   & 27                                                                   \\\\\n",
       "\t                                                                       &  2                                                                    & Bilocale in via privata catone, 29, Dergano, Milano                   & 700                                                                   & 80                                                                   \\\\\n",
       "\t  con ascensore                                                        &  3                                                                    & Trilocale in via giuseppe garibaldi, 94, Cinisello, Cinisello Balsamo & 800                                                                   & 88                                                                   \\\\\n",
       "\t  con ascensore                                                        &  2                                                                    & Bilocale in via luigi guanella, 4, Precotto, Milano                   & 800                                                                   & 40                                                                   \\\\\n",
       "\t  senza ascensore                                                      &  3                                                                    & Trilocale in via privata galeno, 18, Precotto, Milano                 & 950                                                                   & 85                                                                   \\\\\n",
       "\t  con ascensore                                                        &  2                                                                    & Bilocale in via beato angelico, 23, Città Studi, Milano               & 1.000                                                                 & 70                                                                   \\\\\n",
       "\\end{tabular}\n"
      ],
      "text/plain": [
       "  elevator         rooms\n",
       "1  con ascensore   NA   \n",
       "2                   2   \n",
       "3  con ascensore    3   \n",
       "4  con ascensore    2   \n",
       "5  senza ascensore  3   \n",
       "6  con ascensore    2   \n",
       "  address                                                               price\n",
       "1 Monolocale in corso di porta nuova, 52, Moscova-Repubblica, Milano    680  \n",
       "2 Bilocale in via privata catone, 29, Dergano, Milano                   700  \n",
       "3 Trilocale in via giuseppe garibaldi, 94, Cinisello, Cinisello Balsamo 800  \n",
       "4 Bilocale in via luigi guanella, 4, Precotto, Milano                   800  \n",
       "5 Trilocale in via privata galeno, 18, Precotto, Milano                 950  \n",
       "6 Bilocale in via beato angelico, 23, Città Studi, Milano               1.000\n",
       "  size\n",
       "1 27  \n",
       "2 80  \n",
       "3 88  \n",
       "4 40  \n",
       "5 85  \n",
       "6 70  "
      ]
     },
     "metadata": {},
     "output_type": "display_data"
    }
   ],
   "source": [
    "head(rent_raw)"
   ]
  },
  {
   "cell_type": "code",
   "execution_count": 84,
   "metadata": {
    "collapsed": false
   },
   "outputs": [],
   "source": [
    "rent_raw$price<- as.numeric(gsub(\"\\\\.\", \"\", rent_raw$price))\n",
    "sale_raw$price<- as.numeric(gsub(\"\\\\.\", \"\", sale_raw$price))"
   ]
  },
  {
   "cell_type": "code",
   "execution_count": 85,
   "metadata": {
    "collapsed": false
   },
   "outputs": [
    {
     "data": {
      "text/plain": [
       "     size              elevator       address              rooms       \n",
       " Length:40744       Min.   :0.000   Length:40744       Min.   : 2.000  \n",
       " Class :character   1st Qu.:1.000   Class :character   1st Qu.: 2.000  \n",
       " Mode  :character   Median :1.000   Mode  :character   Median : 3.000  \n",
       "                    Mean   :0.821                      Mean   : 3.214  \n",
       "                    3rd Qu.:1.000                      3rd Qu.: 4.000  \n",
       "                    Max.   :1.000                      Max.   :59.000  \n",
       "                    NA's   :17318                      NA's   :2660    \n",
       "     price         \n",
       " Min.   :     265  \n",
       " 1st Qu.:  129000  \n",
       " Median :  199000  \n",
       " Mean   :  322237  \n",
       " 3rd Qu.:  350000  \n",
       " Max.   :88888888  \n",
       "                   "
      ]
     },
     "metadata": {},
     "output_type": "display_data"
    }
   ],
   "source": [
    "sale_raw$elevator[!(sale_raw$elevator  %in% c(\" con ascensore\",\" senza ascensore\"))]<-NA\n",
    "rent_raw$elevator[!(rent_raw$elevator  %in% c(\" con ascensore\",\" senza ascensore\"))]<-NA\n",
    "\n",
    "sale_raw$elevator[sale_raw$elevator == \" con ascensore\"]<-1\n",
    "sale_raw$elevator[sale_raw$elevator == \" senza ascensore\"]<-0\n",
    "rent_raw$elevator[rent_raw$elevator == \" con ascensore\"]<-1\n",
    "rent_raw$elevator[rent_raw$elevator == \" senza ascensore\"]<-0\n",
    "\n",
    "sale_raw$elevator<-as.numeric(sale_raw$elevator)\n",
    "rent_raw$elevator<-as.numeric(rent_raw$elevator)\n",
    "\n",
    "summary(sale_raw)"
   ]
  },
  {
   "cell_type": "code",
   "execution_count": 93,
   "metadata": {
    "collapsed": false
   },
   "outputs": [
    {
     "data": {
      "text/html": [
       "<ol>\n",
       "\t<li><ol class=list-inline>\n",
       "\t<li>'Trilocale in via privata albona'</li>\n",
       "\t<li>' 8'</li>\n",
       "\t<li>' Baggio'</li>\n",
       "\t<li>' Milano'</li>\n",
       "</ol>\n",
       "</li>\n",
       "</ol>\n"
      ],
      "text/latex": [
       "\\begin{enumerate}\n",
       "\\item \\begin{enumerate*}\n",
       "\\item 'Trilocale in via privata albona'\n",
       "\\item ' 8'\n",
       "\\item ' Baggio'\n",
       "\\item ' Milano'\n",
       "\\end{enumerate*}\n",
       "\n",
       "\\end{enumerate}\n"
      ],
      "text/markdown": [
       "1. 1. 'Trilocale in via privata albona'\n",
       "2. ' 8'\n",
       "3. ' Baggio'\n",
       "4. ' Milano'\n",
       "\n",
       "\n",
       "\n",
       "\n",
       "\n"
      ],
      "text/plain": [
       "[[1]]\n",
       "[1] \"Trilocale in via privata albona\" \" 8\"                             \n",
       "[3] \" Baggio\"                         \" Milano\"                        \n"
      ]
     },
     "metadata": {},
     "output_type": "display_data"
    }
   ],
   "source": [
    "head(strsplit(sale_raw$address, \",\")[3])"
   ]
  },
  {
   "cell_type": "code",
   "execution_count": 49,
   "metadata": {
    "collapsed": false
   },
   "outputs": [
    {
     "data": {
      "text/plain": [
       "     size                       elevator       address         \n",
       " Length:40744                       :14541   Length:40744      \n",
       " Class :character                   : 2777   Class :character  \n",
       " Mode  :character    con ascensore  :19224   Mode  :character  \n",
       "                     senza ascensore: 4202                     \n",
       "                                                               \n",
       "                                                               \n",
       "                                                               \n",
       "     rooms            price         \n",
       " Min.   : 2.000   Min.   :     265  \n",
       " 1st Qu.: 2.000   1st Qu.:  129000  \n",
       " Median : 3.000   Median :  199000  \n",
       " Mean   : 3.214   Mean   :  322237  \n",
       " 3rd Qu.: 4.000   3rd Qu.:  350000  \n",
       " Max.   :59.000   Max.   :88888888  \n",
       " NA's   :2660                       "
      ]
     },
     "metadata": {},
     "output_type": "display_data"
    }
   ],
   "source": [
    "summary(sale_raw)"
   ]
  },
  {
   "cell_type": "code",
   "execution_count": 53,
   "metadata": {
    "collapsed": false,
    "scrolled": false
   },
   "outputs": [
    {
     "name": "stderr",
     "output_type": "stream",
     "text": [
      "Warning message:\n",
      "In eval(expr, envir, enclos): NAs introduced by coercionWarning message:\n",
      "In eval(expr, envir, enclos): NAs introduced by coercion"
     ]
    }
   ],
   "source": [
    "sale_raw$sm<-as.numeric(as.character(sale_raw$price))/as.numeric(as.character(sale_raw$size))*1000000\n",
    "rent_raw$sm<-as.numeric(as.character(rent_raw$price))/as.numeric(as.character(rent_raw$size))"
   ]
  },
  {
   "cell_type": "code",
   "execution_count": 54,
   "metadata": {
    "collapsed": false
   },
   "outputs": [],
   "source": [
    "x <- sale_raw$sm\n",
    "qnt <- quantile(x, probs=c(.25, .75), na.rm = T)\n",
    "caps <- quantile(x, probs=c(.05, .95), na.rm = T)\n",
    "H <- 1.5 * IQR(x, na.rm = T)\n",
    "sale_raw<-sale_raw[sale_raw$sm > (qnt[1] - H),]\n",
    "sale_raw<-sale_raw[sale_raw$sm < (qnt[2] + H),]\n",
    "\n",
    "x <- rent_raw$sm\n",
    "qnt <- quantile(x, probs=c(.25, .75), na.rm = T)\n",
    "caps <- quantile(x, probs=c(.05, .95), na.rm = T)\n",
    "H <- 1.5 * IQR(x, na.rm = T)\n",
    "rent_raw<-rent_raw[rent_raw$sm > (qnt[1] - H),]\n",
    "rent_raw<-rent_raw[rent_raw$sm < (qnt[2] + H),]"
   ]
  },
  {
   "cell_type": "code",
   "execution_count": 55,
   "metadata": {
    "collapsed": false
   },
   "outputs": [],
   "source": [
    "rent_aggregated<-aggregate(sm~adress3,data=rent_raw,FUN=mean)\n",
    "rent_aggregated$rent_count<-aggregate(sm~adress3,data=rent_raw,FUN=length)[2]\n",
    "sale_aggregated<-aggregate(sm~adress3,data=sale_raw, FUN=mean)\n",
    "sale_aggregated$sale_count<-aggregate(sm~adress3,data=sale_raw,FUN=length)[2]\n",
    "compare_district<-merge(rent_aggregated,sale_aggregated, by=\"adress3\")\n",
    "compare_district$sm.ratio<-compare_district$sm.y/compare_district$sm.x"
   ]
  },
  {
   "cell_type": "code",
   "execution_count": 56,
   "metadata": {
    "collapsed": false
   },
   "outputs": [
    {
     "data": {
      "text/html": [
       "<table>\n",
       "<thead><tr><th></th><th scope=col>adress3</th><th scope=col>sm.x</th><th scope=col>rent_count</th><th scope=col>sm.y</th><th scope=col>sale_count</th><th scope=col>sm.ratio</th></tr></thead>\n",
       "<tbody>\n",
       "\t<tr><th scope=row>22</th><td>8. kerület, Budapest</td><td>2961.917</td><td>581</td><td>395261.4</td><td>4765</td><td>133.4478</td></tr>\n",
       "\t<tr><th scope=row>17</th><td>3. kerület, Budapest</td><td>3080.003</td><td>283</td><td>459182.9</td><td>4042</td><td>149.0852</td></tr>\n",
       "\t<tr><th scope=row>5</th><td>13. kerület, Budapest</td><td>3185.367</td><td>839</td><td>505189.4</td><td>6729</td><td>158.5969</td></tr>\n",
       "\t<tr><th scope=row>6</th><td>14. kerület, Budapest</td><td>2544.96</td><td>281</td><td>418276.5</td><td>4822</td><td>164.3548</td></tr>\n",
       "\t<tr><th scope=row>21</th><td>7. kerület, Budapest</td><td>2995.794</td><td>923</td><td>495875.7</td><td>5371</td><td>165.5239</td></tr>\n",
       "\t<tr><th scope=row>23</th><td>9. kerület, Budapest</td><td>2985.728</td><td>690</td><td>495484.9</td><td>3155</td><td>165.9511</td></tr>\n",
       "\t<tr><th scope=row>20</th><td>6. kerület, Budapest</td><td>3464.306</td><td>1353</td><td>584643.1</td><td>5078</td><td>168.762</td></tr>\n",
       "\t<tr><th scope=row>12</th><td>2. kerület, Budapest</td><td>3548.513</td><td>1243</td><td>609267.5</td><td>3787</td><td>171.6966</td></tr>\n",
       "\t<tr><th scope=row>1</th><td>1. kerület, Budapest</td><td>3525.838</td><td>464</td><td>610442.1</td><td>1300</td><td>173.1339</td></tr>\n",
       "\t<tr><th scope=row>4</th><td>12. kerület, Budapest</td><td>3439.834</td><td>681</td><td>597393.6</td><td>2124</td><td>173.6693</td></tr>\n",
       "\t<tr><th scope=row>3</th><td>11. kerület, Budapest</td><td>2889.538</td><td>575</td><td>504552.1</td><td>4620</td><td>174.6134</td></tr>\n",
       "\t<tr><th scope=row>19</th><td>5. kerület, Budapest</td><td>3730.574</td><td>1626</td><td>711843.8</td><td>2870</td><td>190.8135</td></tr>\n",
       "</tbody>\n",
       "</table>\n"
      ],
      "text/latex": [
       "\\begin{tabular}{r|llllll}\n",
       "  & adress3 & sm.x & rent_count & sm.y & sale_count & sm.ratio\\\\\n",
       "\\hline\n",
       "\t22 & 8. kerület, Budapest & 2961.917 & 581 & 395261.4 & 4765 & 133.4478\\\\\n",
       "\t17 & 3. kerület, Budapest & 3080.003 & 283 & 459182.9 & 4042 & 149.0852\\\\\n",
       "\t5 & 13. kerület, Budapest & 3185.367 & 839 & 505189.4 & 6729 & 158.5969\\\\\n",
       "\t6 & 14. kerület, Budapest & 2544.96 & 281 & 418276.5 & 4822 & 164.3548\\\\\n",
       "\t21 & 7. kerület, Budapest & 2995.794 & 923 & 495875.7 & 5371 & 165.5239\\\\\n",
       "\t23 & 9. kerület, Budapest & 2985.728 & 690 & 495484.9 & 3155 & 165.9511\\\\\n",
       "\t20 & 6. kerület, Budapest & 3464.306 & 1353 & 584643.1 & 5078 & 168.762\\\\\n",
       "\t12 & 2. kerület, Budapest & 3548.513 & 1243 & 609267.5 & 3787 & 171.6966\\\\\n",
       "\t1 & 1. kerület, Budapest & 3525.838 & 464 & 610442.1 & 1300 & 173.1339\\\\\n",
       "\t4 & 12. kerület, Budapest & 3439.834 & 681 & 597393.6 & 2124 & 173.6693\\\\\n",
       "\t3 & 11. kerület, Budapest & 2889.538 & 575 & 504552.1 & 4620 & 174.6134\\\\\n",
       "\t19 & 5. kerület, Budapest & 3730.574 & 1626 & 711843.8 & 2870 & 190.8135\\\\\n",
       "\\end{tabular}\n"
      ],
      "text/plain": [
       "                 adress3     sm.x   sm     sm.y   sm sm.ratio\n",
       "22  8. kerület, Budapest 2961.917  581 395261.4 4765 133.4478\n",
       "17  3. kerület, Budapest 3080.003  283 459182.9 4042 149.0852\n",
       "5  13. kerület, Budapest 3185.367  839 505189.4 6729 158.5969\n",
       "6  14. kerület, Budapest 2544.960  281 418276.5 4822 164.3548\n",
       "21  7. kerület, Budapest 2995.794  923 495875.7 5371 165.5239\n",
       "23  9. kerület, Budapest 2985.728  690 495484.9 3155 165.9511\n",
       "20  6. kerület, Budapest 3464.306 1353 584643.1 5078 168.7620\n",
       "12  2. kerület, Budapest 3548.513 1243 609267.5 3787 171.6966\n",
       "1   1. kerület, Budapest 3525.838  464 610442.1 1300 173.1339\n",
       "4  12. kerület, Budapest 3439.834  681 597393.6 2124 173.6693\n",
       "3  11. kerület, Budapest 2889.538  575 504552.1 4620 174.6134\n",
       "19  5. kerület, Budapest 3730.574 1626 711843.8 2870 190.8135"
      ]
     },
     "execution_count": 56,
     "metadata": {},
     "output_type": "execute_result"
    }
   ],
   "source": [
    "compare_district<-compare_district[compare_district$rent_count>50 & compare_district$sale_count>50,]\n",
    "compare_district[order(compare_district$sm.ratio),]"
   ]
  },
  {
   "cell_type": "code",
   "execution_count": 57,
   "metadata": {
    "collapsed": false
   },
   "outputs": [],
   "source": [
    "rent_aggregated<-aggregate(sm~adress2,data=rent_raw,FUN=mean)\n",
    "rent_aggregated$rent_count<-aggregate(sm~adress2,data=rent_raw,FUN=length)[2]\n",
    "sale_aggregated<-aggregate(sm~adress2,data=sale_raw, FUN=mean)\n",
    "sale_aggregated$sale_count<-aggregate(sm~adress2,data=sale_raw,FUN=length)[2]\n",
    "compare_district<-merge(rent_aggregated,sale_aggregated, by=\"adress2\")\n",
    "compare_district$sm.ratio<-compare_district$sm.y/compare_district$sm.x"
   ]
  },
  {
   "cell_type": "code",
   "execution_count": 64,
   "metadata": {
    "collapsed": false
   },
   "outputs": [
    {
     "data": {
      "text/html": [
       "<table>\n",
       "<thead><tr><th></th><th scope=col>adress2</th><th scope=col>sm.x</th><th scope=col>rent_count</th><th scope=col>sm.y</th><th scope=col>sale_count</th><th scope=col>sm.ratio</th></tr></thead>\n",
       "<tbody>\n",
       "\t<tr><th scope=row>93</th><td>Józsefváros – Corvinnegyed</td><td>3510.975</td><td>177</td><td>448792.1</td><td>785</td><td>127.8255</td></tr>\n",
       "\t<tr><th scope=row>94</th><td>Józsefváros – Csarnoknegyed</td><td>2941.567</td><td>64</td><td>381495</td><td>636</td><td>129.6911</td></tr>\n",
       "\t<tr><th scope=row>74</th><td>Hárshegy</td><td>4492.778</td><td>53</td><td>651379.2</td><td>62</td><td>144.9836</td></tr>\n",
       "\t<tr><th scope=row>140</th><td>Külső-Terézváros – Diplomatanegyed</td><td>3833.552</td><td>75</td><td>564397.7</td><td>356</td><td>147.2258</td></tr>\n",
       "\t<tr><th scope=row>125</th><td>Középső-Ferencváros</td><td>3102.495</td><td>77</td><td>465824.2</td><td>577</td><td>150.145</td></tr>\n",
       "\t<tr><th scope=row>17</th><td>Angyalföld – Lőportárdűlő</td><td>3070.982</td><td>77</td><td>462253.8</td><td>862</td><td>150.5231</td></tr>\n",
       "\t<tr><th scope=row>116</th><td>Kissvábhegy</td><td>3861.493</td><td>63</td><td>602392.2</td><td>118</td><td>155.9998</td></tr>\n",
       "\t<tr><th scope=row>239</th><td>Vérhalom</td><td>4066.465</td><td>82</td><td>639620.5</td><td>102</td><td>157.2915</td></tr>\n",
       "\t<tr><th scope=row>12</th><td>Angyalföld</td><td>3096.708</td><td>151</td><td>488811</td><td>2247</td><td>157.8486</td></tr>\n",
       "\t<tr><th scope=row>137</th><td>Külső-Erzsébetváros – Ligetváros</td><td>2826.505</td><td>65</td><td>447437.4</td><td>703</td><td>158.3006</td></tr>\n",
       "\t<tr><th scope=row>136</th><td>Külső-Erzsébetváros</td><td>2699.639</td><td>141</td><td>429835.2</td><td>1478</td><td>159.2195</td></tr>\n",
       "\t<tr><th scope=row>100</th><td>Józsefváros – Palotanegyed</td><td>2883.318</td><td>191</td><td>460363</td><td>887</td><td>159.6643</td></tr>\n",
       "\t<tr><th scope=row>130</th><td>Krisztinaváros</td><td>3349.742</td><td>130</td><td>539120.3</td><td>732</td><td>160.9438</td></tr>\n",
       "\t<tr><th scope=row>244</th><td>Víziváros</td><td>3368.028</td><td>169</td><td>553363</td><td>766</td><td>164.2988</td></tr>\n",
       "\t<tr><th scope=row>88</th><td>Istvánmező</td><td>2450.175</td><td>57</td><td>407533.6</td><td>577</td><td>166.3284</td></tr>\n",
       "\t<tr><th scope=row>164</th><td>Németvölgy</td><td>3749.68</td><td>118</td><td>626762.8</td><td>338</td><td>167.151</td></tr>\n",
       "\t<tr><th scope=row>106</th><td>Kelenföld</td><td>2814.071</td><td>99</td><td>470918.6</td><td>920</td><td>167.3443</td></tr>\n",
       "\t<tr><th scope=row>5</th><td>Alsórákos</td><td>2658.347</td><td>95</td><td>447104.6</td><td>2032</td><td>168.1889</td></tr>\n",
       "\t<tr><th scope=row>132</th><td>Krisztinaváros – Váralja</td><td>3388.636</td><td>83</td><td>577594.5</td><td>263</td><td>170.4505</td></tr>\n",
       "\t<tr><th scope=row>139</th><td>Külső-Terézváros</td><td>3135.375</td><td>512</td><td>537711.6</td><td>2554</td><td>171.4983</td></tr>\n",
       "\t<tr><th scope=row>179</th><td>Pasarét</td><td>3526.154</td><td>98</td><td>605488.2</td><td>306</td><td>171.7135</td></tr>\n",
       "\t<tr><th scope=row>124</th><td>Középső-Erzsébetváros</td><td>2819.367</td><td>244</td><td>486708.6</td><td>1445</td><td>172.6305</td></tr>\n",
       "\t<tr><th scope=row>128</th><td>Középső-Ferencváros – Rehabilitációs terület</td><td>2849.876</td><td>216</td><td>495336.3</td><td>754</td><td>173.8097</td></tr>\n",
       "\t<tr><th scope=row>205</th><td>Szemlőhegy</td><td>3839.951</td><td>82</td><td>671820.8</td><td>217</td><td>174.9556</td></tr>\n",
       "\t<tr><th scope=row>135</th><td>Kútvölgy</td><td>3570.466</td><td>91</td><td>627949.9</td><td>125</td><td>175.8734</td></tr>\n",
       "\t<tr><th scope=row>27</th><td>Belső-Terézváros</td><td>3646.436</td><td>762</td><td>644459.8</td><td>2142</td><td>176.7369</td></tr>\n",
       "\t<tr><th scope=row>223</th><td>Újlipótváros</td><td>3011.105</td><td>365</td><td>534970.1</td><td>1642</td><td>177.6657</td></tr>\n",
       "\t<tr><th scope=row>242</th><td>Vizafogó – Marinapart</td><td>4288.445</td><td>85</td><td>765771.6</td><td>151</td><td>178.5662</td></tr>\n",
       "\t<tr><th scope=row>245</th><td>Víziváros – Váralja</td><td>3367.923</td><td>66</td><td>601895.8</td><td>219</td><td>178.7143</td></tr>\n",
       "\t<tr><th scope=row>220</th><td>Törökvész</td><td>3766.035</td><td>234</td><td>677732</td><td>386</td><td>179.959</td></tr>\n",
       "\t<tr><th scope=row>148</th><td>Lipótváros</td><td>3880.943</td><td>798</td><td>698527.1</td><td>1425</td><td>179.989</td></tr>\n",
       "\t<tr><th scope=row>25</th><td>Belső-Erzsébetváros</td><td>3198.353</td><td>473</td><td>579763</td><td>1728</td><td>181.2692</td></tr>\n",
       "\t<tr><th scope=row>126</th><td>Középső-Ferencváros – Malmok</td><td>3088.512</td><td>75</td><td>569539</td><td>409</td><td>184.4056</td></tr>\n",
       "\t<tr><th scope=row>26</th><td>Belső-Ferencváros</td><td>2871.903</td><td>275</td><td>536573.6</td><td>881</td><td>186.8356</td></tr>\n",
       "\t<tr><th scope=row>190</th><td>Rézmál</td><td>3826.979</td><td>70</td><td>721304.1</td><td>141</td><td>188.4787</td></tr>\n",
       "\t<tr><th scope=row>174</th><td>Országút</td><td>2879.134</td><td>156</td><td>550294.2</td><td>583</td><td>191.1318</td></tr>\n",
       "\t<tr><th scope=row>195</th><td>Sasad</td><td>2966.512</td><td>60</td><td>573415.8</td><td>305</td><td>193.2963</td></tr>\n",
       "\t<tr><th scope=row>194</th><td>Rózsadomb</td><td>3354.611</td><td>87</td><td>652757.1</td><td>312</td><td>194.585</td></tr>\n",
       "\t<tr><th scope=row>142</th><td>Lágymányos – Műegyetem környéke</td><td>2636.391</td><td>82</td><td>514570.3</td><td>489</td><td>195.1798</td></tr>\n",
       "\t<tr><th scope=row>208</th><td>Szentimreváros</td><td>2663.057</td><td>89</td><td>520055.1</td><td>343</td><td>195.285</td></tr>\n",
       "\t<tr><th scope=row>29</th><td>Belváros</td><td>3581.164</td><td>826</td><td>725061.2</td><td>1440</td><td>202.4652</td></tr>\n",
       "\t<tr><th scope=row>173</th><td>Orbánhegy</td><td>3276.894</td><td>59</td><td>667465.7</td><td>150</td><td>203.6885</td></tr>\n",
       "\t<tr><th scope=row>65</th><td>Gellérthegy</td><td>3371.04</td><td>90</td><td>702748.2</td><td>205</td><td>208.4663</td></tr>\n",
       "\t<tr><th scope=row>134</th><td>Kurucles</td><td>3056.542</td><td>70</td><td>640224.7</td><td>245</td><td>209.4604</td></tr>\n",
       "</tbody>\n",
       "</table>\n"
      ],
      "text/latex": [
       "\\begin{tabular}{r|llllll}\n",
       "  & adress2 & sm.x & rent_count & sm.y & sale_count & sm.ratio\\\\\n",
       "\\hline\n",
       "\t93 & Józsefváros – Corvinnegyed & 3510.975 & 177 & 448792.1 & 785 & 127.8255\\\\\n",
       "\t94 & Józsefváros – Csarnoknegyed & 2941.567 & 64 & 381495 & 636 & 129.6911\\\\\n",
       "\t74 & Hárshegy & 4492.778 & 53 & 651379.2 & 62 & 144.9836\\\\\n",
       "\t140 & Külső-Terézváros – Diplomatanegyed & 3833.552 & 75 & 564397.7 & 356 & 147.2258\\\\\n",
       "\t125 & Középső-Ferencváros & 3102.495 & 77 & 465824.2 & 577 & 150.145\\\\\n",
       "\t17 & Angyalföld – Lőportárdűlő & 3070.982 & 77 & 462253.8 & 862 & 150.5231\\\\\n",
       "\t116 & Kissvábhegy & 3861.493 & 63 & 602392.2 & 118 & 155.9998\\\\\n",
       "\t239 & Vérhalom & 4066.465 & 82 & 639620.5 & 102 & 157.2915\\\\\n",
       "\t12 & Angyalföld & 3096.708 & 151 & 488811 & 2247 & 157.8486\\\\\n",
       "\t137 & Külső-Erzsébetváros – Ligetváros & 2826.505 & 65 & 447437.4 & 703 & 158.3006\\\\\n",
       "\t136 & Külső-Erzsébetváros & 2699.639 & 141 & 429835.2 & 1478 & 159.2195\\\\\n",
       "\t100 & Józsefváros – Palotanegyed & 2883.318 & 191 & 460363 & 887 & 159.6643\\\\\n",
       "\t130 & Krisztinaváros & 3349.742 & 130 & 539120.3 & 732 & 160.9438\\\\\n",
       "\t244 & Víziváros & 3368.028 & 169 & 553363 & 766 & 164.2988\\\\\n",
       "\t88 & Istvánmező & 2450.175 & 57 & 407533.6 & 577 & 166.3284\\\\\n",
       "\t164 & Németvölgy & 3749.68 & 118 & 626762.8 & 338 & 167.151\\\\\n",
       "\t106 & Kelenföld & 2814.071 & 99 & 470918.6 & 920 & 167.3443\\\\\n",
       "\t5 & Alsórákos & 2658.347 & 95 & 447104.6 & 2032 & 168.1889\\\\\n",
       "\t132 & Krisztinaváros – Váralja & 3388.636 & 83 & 577594.5 & 263 & 170.4505\\\\\n",
       "\t139 & Külső-Terézváros & 3135.375 & 512 & 537711.6 & 2554 & 171.4983\\\\\n",
       "\t179 & Pasarét & 3526.154 & 98 & 605488.2 & 306 & 171.7135\\\\\n",
       "\t124 & Középső-Erzsébetváros & 2819.367 & 244 & 486708.6 & 1445 & 172.6305\\\\\n",
       "\t128 & Középső-Ferencváros – Rehabilitációs terület & 2849.876 & 216 & 495336.3 & 754 & 173.8097\\\\\n",
       "\t205 & Szemlőhegy & 3839.951 & 82 & 671820.8 & 217 & 174.9556\\\\\n",
       "\t135 & Kútvölgy & 3570.466 & 91 & 627949.9 & 125 & 175.8734\\\\\n",
       "\t27 & Belső-Terézváros & 3646.436 & 762 & 644459.8 & 2142 & 176.7369\\\\\n",
       "\t223 & Újlipótváros & 3011.105 & 365 & 534970.1 & 1642 & 177.6657\\\\\n",
       "\t242 & Vizafogó – Marinapart & 4288.445 & 85 & 765771.6 & 151 & 178.5662\\\\\n",
       "\t245 & Víziváros – Váralja & 3367.923 & 66 & 601895.8 & 219 & 178.7143\\\\\n",
       "\t220 & Törökvész & 3766.035 & 234 & 677732 & 386 & 179.959\\\\\n",
       "\t148 & Lipótváros & 3880.943 & 798 & 698527.1 & 1425 & 179.989\\\\\n",
       "\t25 & Belső-Erzsébetváros & 3198.353 & 473 & 579763 & 1728 & 181.2692\\\\\n",
       "\t126 & Középső-Ferencváros – Malmok & 3088.512 & 75 & 569539 & 409 & 184.4056\\\\\n",
       "\t26 & Belső-Ferencváros & 2871.903 & 275 & 536573.6 & 881 & 186.8356\\\\\n",
       "\t190 & Rézmál & 3826.979 & 70 & 721304.1 & 141 & 188.4787\\\\\n",
       "\t174 & Országút & 2879.134 & 156 & 550294.2 & 583 & 191.1318\\\\\n",
       "\t195 & Sasad & 2966.512 & 60 & 573415.8 & 305 & 193.2963\\\\\n",
       "\t194 & Rózsadomb & 3354.611 & 87 & 652757.1 & 312 & 194.585\\\\\n",
       "\t142 & Lágymányos – Műegyetem környéke & 2636.391 & 82 & 514570.3 & 489 & 195.1798\\\\\n",
       "\t208 & Szentimreváros & 2663.057 & 89 & 520055.1 & 343 & 195.285\\\\\n",
       "\t29 & Belváros & 3581.164 & 826 & 725061.2 & 1440 & 202.4652\\\\\n",
       "\t173 & Orbánhegy & 3276.894 & 59 & 667465.7 & 150 & 203.6885\\\\\n",
       "\t65 & Gellérthegy & 3371.04 & 90 & 702748.2 & 205 & 208.4663\\\\\n",
       "\t134 & Kurucles & 3056.542 & 70 & 640224.7 & 245 & 209.4604\\\\\n",
       "\\end{tabular}\n"
      ],
      "text/plain": [
       "                                         adress2     sm.x  sm     sm.y   sm\n",
       "93                    Józsefváros – Corvinnegyed 3510.975 177 448792.1  785\n",
       "94                   Józsefváros – Csarnoknegyed 2941.567  64 381495.0  636\n",
       "74                                      Hárshegy 4492.778  53 651379.2   62\n",
       "140           Külső-Terézváros – Diplomatanegyed 3833.552  75 564397.7  356\n",
       "125                          Középső-Ferencváros 3102.495  77 465824.2  577\n",
       "17                     Angyalföld – Lőportárdűlő 3070.982  77 462253.8  862\n",
       "116                                  Kissvábhegy 3861.493  63 602392.2  118\n",
       "239                                     Vérhalom 4066.465  82 639620.5  102\n",
       "12                                    Angyalföld 3096.708 151 488811.0 2247\n",
       "137             Külső-Erzsébetváros – Ligetváros 2826.505  65 447437.4  703\n",
       "136                          Külső-Erzsébetváros 2699.639 141 429835.2 1478\n",
       "100                   Józsefváros – Palotanegyed 2883.318 191 460363.0  887\n",
       "130                               Krisztinaváros 3349.742 130 539120.3  732\n",
       "244                                    Víziváros 3368.028 169 553363.0  766\n",
       "88                                    Istvánmező 2450.175  57 407533.6  577\n",
       "164                                   Németvölgy 3749.680 118 626762.8  338\n",
       "106                                    Kelenföld 2814.071  99 470918.6  920\n",
       "5                                      Alsórákos 2658.347  95 447104.6 2032\n",
       "132                     Krisztinaváros – Váralja 3388.636  83 577594.5  263\n",
       "139                             Külső-Terézváros 3135.375 512 537711.6 2554\n",
       "179                                      Pasarét 3526.154  98 605488.2  306\n",
       "124                        Középső-Erzsébetváros 2819.367 244 486708.6 1445\n",
       "128 Középső-Ferencváros – Rehabilitációs terület 2849.876 216 495336.3  754\n",
       "205                                   Szemlőhegy 3839.951  82 671820.8  217\n",
       "135                                     Kútvölgy 3570.466  91 627949.9  125\n",
       "27                              Belső-Terézváros 3646.436 762 644459.8 2142\n",
       "223                                 Újlipótváros 3011.105 365 534970.1 1642\n",
       "242                        Vizafogó – Marinapart 4288.445  85 765771.6  151\n",
       "245                          Víziváros – Váralja 3367.923  66 601895.8  219\n",
       "220                                    Törökvész 3766.035 234 677732.0  386\n",
       "148                                   Lipótváros 3880.943 798 698527.1 1425\n",
       "25                           Belső-Erzsébetváros 3198.353 473 579763.0 1728\n",
       "126                 Középső-Ferencváros – Malmok 3088.512  75 569539.0  409\n",
       "26                             Belső-Ferencváros 2871.903 275 536573.6  881\n",
       "190                                       Rézmál 3826.979  70 721304.1  141\n",
       "174                                     Országút 2879.134 156 550294.2  583\n",
       "195                                        Sasad 2966.512  60 573415.8  305\n",
       "194                                    Rózsadomb 3354.611  87 652757.1  312\n",
       "142              Lágymányos – Műegyetem környéke 2636.391  82 514570.3  489\n",
       "208                               Szentimreváros 2663.057  89 520055.1  343\n",
       "29                                      Belváros 3581.164 826 725061.2 1440\n",
       "173                                    Orbánhegy 3276.894  59 667465.7  150\n",
       "65                                   Gellérthegy 3371.040  90 702748.2  205\n",
       "134                                     Kurucles 3056.542  70 640224.7  245\n",
       "    sm.ratio\n",
       "93  127.8255\n",
       "94  129.6911\n",
       "74  144.9836\n",
       "140 147.2258\n",
       "125 150.1450\n",
       "17  150.5231\n",
       "116 155.9998\n",
       "239 157.2915\n",
       "12  157.8486\n",
       "137 158.3006\n",
       "136 159.2195\n",
       "100 159.6643\n",
       "130 160.9438\n",
       "244 164.2988\n",
       "88  166.3284\n",
       "164 167.1510\n",
       "106 167.3443\n",
       "5   168.1889\n",
       "132 170.4505\n",
       "139 171.4983\n",
       "179 171.7135\n",
       "124 172.6305\n",
       "128 173.8097\n",
       "205 174.9556\n",
       "135 175.8734\n",
       "27  176.7369\n",
       "223 177.6657\n",
       "242 178.5662\n",
       "245 178.7143\n",
       "220 179.9590\n",
       "148 179.9890\n",
       "25  181.2692\n",
       "126 184.4056\n",
       "26  186.8356\n",
       "190 188.4787\n",
       "174 191.1318\n",
       "195 193.2963\n",
       "194 194.5850\n",
       "142 195.1798\n",
       "208 195.2850\n",
       "29  202.4652\n",
       "173 203.6885\n",
       "65  208.4663\n",
       "134 209.4604"
      ]
     },
     "execution_count": 64,
     "metadata": {},
     "output_type": "execute_result"
    }
   ],
   "source": [
    "compare_district<-compare_district[compare_district$rent_count>50 & compare_district$sale_count>50,]\n",
    "result<-compare_district[order(compare_district$sm.ratio),]\n",
    "result"
   ]
  },
  {
   "cell_type": "code",
   "execution_count": null,
   "metadata": {
    "collapsed": true
   },
   "outputs": [],
   "source": []
  },
  {
   "cell_type": "code",
   "execution_count": null,
   "metadata": {
    "collapsed": true
   },
   "outputs": [],
   "source": []
  }
 ],
 "metadata": {
  "anaconda-cloud": {},
  "hide_input": true,
  "kernelspec": {
   "display_name": "R",
   "language": "R",
   "name": "ir"
  },
  "language_info": {
   "codemirror_mode": "r",
   "file_extension": ".r",
   "mimetype": "text/x-r-source",
   "name": "R",
   "pygments_lexer": "r",
   "version": "3.3.1"
  }
 },
 "nbformat": 4,
 "nbformat_minor": 0
}
