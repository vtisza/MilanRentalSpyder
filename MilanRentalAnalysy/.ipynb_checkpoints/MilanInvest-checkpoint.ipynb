{
 "cells": [
  {
   "cell_type": "markdown",
   "metadata": {},
   "source": [
    "## Real estate investment in Milan"
   ]
  },
  {
   "cell_type": "code",
   "execution_count": 1,
   "metadata": {
    "collapsed": false
   },
   "outputs": [
    {
     "name": "stderr",
     "output_type": "stream",
     "text": [
      "\n",
      "Attaching package: 'dplyr'\n",
      "\n",
      "The following objects are masked from 'package:stats':\n",
      "\n",
      "    filter, lag\n",
      "\n",
      "The following objects are masked from 'package:base':\n",
      "\n",
      "    intersect, setdiff, setequal, union\n",
      "\n"
     ]
    }
   ],
   "source": [
    "library(dplyr)"
   ]
  },
  {
   "cell_type": "code",
   "execution_count": 2,
   "metadata": {
    "collapsed": false
   },
   "outputs": [],
   "source": [
    "sale_raw<-read.csv2(\"idealista_buy.csv\", as.is=T, sep=\",\")\n",
    "rent_raw<-read.csv2(\"idealista_rent.csv\", as.is=T, sep=\",\")"
   ]
  },
  {
   "cell_type": "code",
   "execution_count": 3,
   "metadata": {
    "collapsed": false
   },
   "outputs": [
    {
     "data": {
      "text/html": [
       "<table>\n",
       "<thead><tr><th></th><th scope=col>elevator</th><th scope=col>rooms</th><th scope=col>address</th><th scope=col>price</th><th scope=col>size</th></tr></thead>\n",
       "<tbody>\n",
       "\t<tr><th scope=row>1</th><td> con ascensore</td><td>NA</td><td>Monolocale in corso di porta nuova, 52, Moscova-Repubblica, Milano</td><td>680</td><td>27 </td></tr>\n",
       "\t<tr><th scope=row>2</th><td></td><td>2</td><td>Bilocale in via privata catone, 29, Dergano, Milano</td><td>700</td><td>80 </td></tr>\n",
       "\t<tr><th scope=row>3</th><td> con ascensore</td><td>3</td><td>Trilocale in via giuseppe garibaldi, 94, Cinisello, Cinisello Balsamo</td><td>800</td><td>88 </td></tr>\n",
       "\t<tr><th scope=row>4</th><td> con ascensore</td><td>2</td><td>Bilocale in via luigi guanella, 4, Precotto, Milano</td><td>800</td><td>40 </td></tr>\n",
       "\t<tr><th scope=row>5</th><td> senza ascensore</td><td>3</td><td>Trilocale in via privata galeno, 18, Precotto, Milano</td><td>950</td><td>85 </td></tr>\n",
       "\t<tr><th scope=row>6</th><td> con ascensore</td><td>2</td><td>Bilocale in via beato angelico, 23, CittĂ  Studi, Milano</td><td>1.000</td><td>70 </td></tr>\n",
       "</tbody>\n",
       "</table>\n"
      ],
      "text/latex": [
       "\\begin{tabular}{r|lllll}\n",
       "  & elevator & rooms & address & price & size\\\\\n",
       "\\hline\n",
       "\t1 &  con ascensore & NA & Monolocale in corso di porta nuova, 52, Moscova-Repubblica, Milano & 680 & 27 \\\\\n",
       "\t2 &  & 2 & Bilocale in via privata catone, 29, Dergano, Milano & 700 & 80 \\\\\n",
       "\t3 &  con ascensore & 3 & Trilocale in via giuseppe garibaldi, 94, Cinisello, Cinisello Balsamo & 800 & 88 \\\\\n",
       "\t4 &  con ascensore & 2 & Bilocale in via luigi guanella, 4, Precotto, Milano & 800 & 40 \\\\\n",
       "\t5 &  senza ascensore & 3 & Trilocale in via privata galeno, 18, Precotto, Milano & 950 & 85 \\\\\n",
       "\t6 &  con ascensore & 2 & Bilocale in via beato angelico, 23, CittĂ  Studi, Milano & 1.000 & 70 \\\\\n",
       "\\end{tabular}\n"
      ],
      "text/plain": [
       "          elevator rooms\n",
       "1    con ascensore    NA\n",
       "2                      2\n",
       "3    con ascensore     3\n",
       "4    con ascensore     2\n",
       "5  senza ascensore     3\n",
       "6    con ascensore     2\n",
       "                                                                address price\n",
       "1    Monolocale in corso di porta nuova, 52, Moscova-Repubblica, Milano   680\n",
       "2                   Bilocale in via privata catone, 29, Dergano, Milano   700\n",
       "3 Trilocale in via giuseppe garibaldi, 94, Cinisello, Cinisello Balsamo   800\n",
       "4                   Bilocale in via luigi guanella, 4, Precotto, Milano   800\n",
       "5                 Trilocale in via privata galeno, 18, Precotto, Milano   950\n",
       "6              Bilocale in via beato angelico, 23, CittĂ  Studi, Milano 1.000\n",
       "  size\n",
       "1  27 \n",
       "2  80 \n",
       "3  88 \n",
       "4  40 \n",
       "5  85 \n",
       "6  70 "
      ]
     },
     "execution_count": 3,
     "metadata": {},
     "output_type": "execute_result"
    }
   ],
   "source": [
    "head(rent_raw)"
   ]
  },
  {
   "cell_type": "code",
   "execution_count": 4,
   "metadata": {
    "collapsed": false,
    "run_control": {
     "marked": false
    }
   },
   "outputs": [],
   "source": [
    "rent_raw$price<- as.numeric(gsub(\"\\\\.\", \"\", rent_raw$price))\n",
    "sale_raw$price<- as.numeric(gsub(\"\\\\.\", \"\", sale_raw$price))\n",
    "\n",
    "rent_raw$size<- as.numeric(rent_raw$size)\n",
    "sale_raw$size<- as.numeric(sale_raw$size)\n",
    "\n",
    "rent_raw$price_sqm<-rent_raw$price/rent_raw$size\n",
    "sale_raw$price_sqm<-sale_raw$price/sale_raw$size"
   ]
  },
  {
   "cell_type": "code",
   "execution_count": 5,
   "metadata": {
    "collapsed": false
   },
   "outputs": [],
   "source": [
    "sale_raw$elevator[!(sale_raw$elevator  %in% c(\" con ascensore\",\" senza ascensore\"))]<-NA\n",
    "rent_raw$elevator[!(rent_raw$elevator  %in% c(\" con ascensore\",\" senza ascensore\"))]<-NA\n",
    "\n",
    "sale_raw$elevator[sale_raw$elevator == \" con ascensore\"]<-1\n",
    "sale_raw$elevator[sale_raw$elevator == \" senza ascensore\"]<-0\n",
    "rent_raw$elevator[rent_raw$elevator == \" con ascensore\"]<-1\n",
    "rent_raw$elevator[rent_raw$elevator == \" senza ascensore\"]<-0\n",
    "\n",
    "sale_raw$elevator<-as.numeric(sale_raw$elevator)\n",
    "rent_raw$elevator<-as.numeric(rent_raw$elevator)"
   ]
  },
  {
   "cell_type": "code",
   "execution_count": 6,
   "metadata": {
    "collapsed": false
   },
   "outputs": [],
   "source": [
    "sale_raw$area<-sapply(sale_raw$address,function(x) tail(unlist(strsplit(x, \",\")),n=2)[1])\n",
    "sale_raw$city<-sapply(sale_raw$address,function(x) tail(unlist(strsplit(x, \",\")), n=1))\n",
    "rent_raw$area<-sapply(rent_raw$address,function(x) tail(unlist(strsplit(x, \",\")),n=2)[1])\n",
    "rent_raw$city<-sapply(rent_raw$address,function(x) tail(unlist(strsplit(x, \",\")), n=1))"
   ]
  },
  {
   "cell_type": "code",
   "execution_count": 7,
   "metadata": {
    "collapsed": false
   },
   "outputs": [],
   "source": [
    "sale_clean<-sale_raw %>% \n",
    "            filter(area!=city) %>%\n",
    "            group_by(address,size, elevator, rooms, area, city) %>% \n",
    "            summarize(min_price_sqm=min(price_sqm),min_price=min(price),max_price_sqm=max(price_sqm),max_price=max(price),nr_ad=n())\n",
    "\n",
    "rent_clean<-rent_raw %>% \n",
    "            filter(area!=city) %>%\n",
    "            group_by(address,size, elevator, rooms, area, city) %>% \n",
    "            summarize(min_price_sqm=min(price_sqm),min_price=min(price),max_price_sqm=max(price_sqm),max_price=max(price),nr_ad=n())"
   ]
  },
  {
   "cell_type": "code",
   "execution_count": 8,
   "metadata": {
    "collapsed": false
   },
   "outputs": [],
   "source": [
    "x <- sale_clean$min_price_sqm\n",
    "qnt <- quantile(x, probs=c(.25, .75), na.rm = T)\n",
    "caps <- quantile(x, probs=c(.05, .95), na.rm = T)\n",
    "H <- 1.5 * IQR(x, na.rm = T)\n",
    "sale_clean<-sale_clean[sale_clean$min_price_sqm > (qnt[1] - H),]\n",
    "sale_clean<-sale_clean[sale_clean$min_price_sqm < (qnt[2] + H),]\n",
    "\n",
    "x <- rent_clean$min_price_sqm\n",
    "qnt <- quantile(x, probs=c(.25, .75), na.rm = T)\n",
    "caps <- quantile(x, probs=c(.05, .95), na.rm = T)\n",
    "H <- 1.5 * IQR(x, na.rm = T)\n",
    "rent_clean<-rent_clean[rent_clean$min_price_sqm > (qnt[1] - H),]\n",
    "rent_clean<-rent_clean[rent_clean$min_price_sqm < (qnt[2] + H),]"
   ]
  },
  {
   "cell_type": "code",
   "execution_count": 39,
   "metadata": {
    "collapsed": false
   },
   "outputs": [
    {
     "data": {
      "text/html": [
       "<table>\n",
       "<thead><tr><th></th><th scope=col>area</th><th scope=col>gross_yield</th><th scope=col>rent_to_own_ratio</th><th scope=col>rent_difficulty_group</th><th scope=col>sale_difficulty_group</th><th scope=col>rent_price_group</th><th scope=col>sale_price_group</th><th scope=col>investment</th></tr></thead>\n",
       "<tbody>\n",
       "\t<tr><th scope=row>1</th><td> Turro</td><td>0.08117513</td><td>12.31904</td><td>Easy</td><td>Difficult</td><td>Normal</td><td>Cheap</td><td>Recommended to buy</td></tr>\n",
       "\t<tr><th scope=row>2</th><td> Quarto Oggiaro-Euromilano</td><td>0.07737052</td><td>12.92482</td><td>Easy</td><td>Easy</td><td>Cheap</td><td>Cheap</td><td>Recommended to buy</td></tr>\n",
       "\t<tr><th scope=row>3</th><td> CĂ  Granda</td><td>0.0732123</td><td>13.65891</td><td>Difficult</td><td>Medium</td><td>Normal</td><td>Cheap</td><td>Recommended to buy</td></tr>\n",
       "\t<tr><th scope=row>4</th><td> Rogoredo-Santa Giulia</td><td>0.07206793</td><td>13.8758</td><td>Difficult</td><td>Easy</td><td>Cheap</td><td>Cheap</td><td>Recommended to buy</td></tr>\n",
       "\t<tr><th scope=row>5</th><td> Gorla</td><td>0.07100762</td><td>14.08299</td><td>Easy</td><td>Easy</td><td>Normal</td><td>Cheap</td><td>Recommended to buy</td></tr>\n",
       "\t<tr><th scope=row>6</th><td> Corvetto</td><td>0.06980334</td><td>14.32596</td><td>Easy</td><td>Medium</td><td>Normal</td><td>Cheap</td><td>Recommended to buy</td></tr>\n",
       "\t<tr><th scope=row>7</th><td> Varesina-Testori</td><td>0.06920326</td><td>14.45019</td><td>Medium</td><td>Medium</td><td>Normal</td><td>Cheap</td><td>Recommended to buy</td></tr>\n",
       "\t<tr><th scope=row>8</th><td> Dergano</td><td>0.06788529</td><td>14.73073</td><td>Easy</td><td>Easy</td><td>Normal</td><td>Cheap</td><td>Recommended to buy</td></tr>\n",
       "\t<tr><th scope=row>9</th><td> Baggio</td><td>0.06759183</td><td>14.79469</td><td>Easy</td><td>Easy</td><td>Cheap</td><td>Cheap</td><td>Recommended to buy</td></tr>\n",
       "\t<tr><th scope=row>10</th><td> Chiesa Rossa</td><td>0.06550028</td><td>15.26711</td><td>Medium</td><td>Easy</td><td>Normal</td><td>Normal</td><td>To be evaluated</td></tr>\n",
       "\t<tr><th scope=row>11</th><td> Ortles</td><td>0.06525688</td><td>15.32406</td><td>Easy</td><td>Easy</td><td>Normal</td><td>Normal</td><td>To be evaluated</td></tr>\n",
       "\t<tr><th scope=row>12</th><td> Bovisa</td><td>0.06488882</td><td>15.41098</td><td>Medium</td><td>Difficult</td><td>Normal</td><td>Normal</td><td>To be evaluated</td></tr>\n",
       "\t<tr><th scope=row>13</th><td> Morgantini</td><td>0.06439384</td><td>15.52944</td><td>Medium</td><td>Easy</td><td>Normal</td><td>Normal</td><td>To be evaluated</td></tr>\n",
       "\t<tr><th scope=row>14</th><td> Teodosio-Porpora</td><td>0.0638007</td><td>15.67381</td><td>Easy</td><td>Easy</td><td>Normal</td><td>Normal</td><td>To be evaluated</td></tr>\n",
       "\t<tr><th scope=row>15</th><td> Accursio</td><td>0.06286927</td><td>15.90602</td><td>Medium</td><td>Easy</td><td>Normal</td><td>Normal</td><td>To be evaluated</td></tr>\n",
       "\t<tr><th scope=row>16</th><td> Niguarda</td><td>0.06247038</td><td>16.00759</td><td>Easy</td><td>Easy</td><td>Cheap</td><td>Cheap</td><td>To be evaluated</td></tr>\n",
       "\t<tr><th scope=row>17</th><td> Crescenzago</td><td>0.0614982</td><td>16.26064</td><td>Difficult</td><td>Easy</td><td>Cheap</td><td>Cheap</td><td>To be evaluated</td></tr>\n",
       "\t<tr><th scope=row>18</th><td> Gallaratese</td><td>0.06147803</td><td>16.26597</td><td>Medium</td><td>Easy</td><td>Cheap</td><td>Cheap</td><td>To be evaluated</td></tr>\n",
       "\t<tr><th scope=row>19</th><td> Brianza-Pasteur</td><td>0.0613334</td><td>16.30433</td><td>Medium</td><td>Medium</td><td>Normal</td><td>Normal</td><td>To be evaluated</td></tr>\n",
       "\t<tr><th scope=row>20</th><td> Mecenate</td><td>0.06100496</td><td>16.39211</td><td>Difficult</td><td>Medium</td><td>Normal</td><td>Normal</td><td>To be evaluated</td></tr>\n",
       "\t<tr><th scope=row>21</th><td> Udine</td><td>0.05800261</td><td>17.2406</td><td>Easy</td><td>Easy</td><td>Normal</td><td>Normal</td><td>To be evaluated</td></tr>\n",
       "\t<tr><th scope=row>22</th><td> Cermenate-Meda</td><td>0.05794367</td><td>17.25814</td><td>Easy</td><td>Easy</td><td>Normal</td><td>Normal</td><td>To be evaluated</td></tr>\n",
       "\t<tr><th scope=row>23</th><td> Vigentino</td><td>0.0576288</td><td>17.35243</td><td>Medium</td><td>Medium</td><td>Normal</td><td>Normal</td><td>To be evaluated</td></tr>\n",
       "\t<tr><th scope=row>24</th><td> Lorenteggio-Giambellino</td><td>0.05743178</td><td>17.41196</td><td>Easy</td><td>Easy</td><td>Cheap</td><td>Normal</td><td>To be evaluated</td></tr>\n",
       "\t<tr><th scope=row>25</th><td> Greco-Villaggio dei Giornalisti</td><td>0.05699478</td><td>17.54547</td><td>Medium</td><td>Easy</td><td>Normal</td><td>Normal</td><td>To be evaluated</td></tr>\n",
       "\t<tr><th scope=row>26</th><td> Naviglio Grande-Barona</td><td>0.05691524</td><td>17.56999</td><td>Medium</td><td>Medium</td><td>Normal</td><td>Normal</td><td>To be evaluated</td></tr>\n",
       "\t<tr><th scope=row>27</th><td> Istria</td><td>0.05635493</td><td>17.74468</td><td>Easy</td><td>Medium</td><td>Normal</td><td>Normal</td><td>To be evaluated</td></tr>\n",
       "\t<tr><th scope=row>28</th><td> Brenta</td><td>0.05599517</td><td>17.85868</td><td>Medium</td><td>Medium</td><td>Normal</td><td>Normal</td><td>To be evaluated</td></tr>\n",
       "\t<tr><th scope=row>29</th><td> Precotto</td><td>0.05532225</td><td>18.07591</td><td>Difficult</td><td>Medium</td><td>Cheap</td><td>Normal</td><td>To be evaluated</td></tr>\n",
       "\t<tr><th scope=row>30</th><td> Martini-Cuoco</td><td>0.05341456</td><td>18.72149</td><td>Difficult</td><td>Medium</td><td>Normal</td><td>Normal</td><td>To be evaluated</td></tr>\n",
       "\t<tr><th scope=row>31</th><td> CittĂ  Studi</td><td>0.05224045</td><td>19.14225</td><td>Easy</td><td>Easy</td><td>Normal</td><td>Normal</td><td>To be evaluated</td></tr>\n",
       "\t<tr><th scope=row>32</th><td> Bicocca</td><td>0.05161391</td><td>19.37462</td><td>Easy</td><td>Difficult</td><td>Cheap</td><td>Normal</td><td>To be evaluated</td></tr>\n",
       "\t<tr><th scope=row>33</th><td> Garibaldi-Isola</td><td>0.05075049</td><td>19.70425</td><td>Easy</td><td>Easy</td><td>Expensive</td><td>Expensive</td><td>To be evaluated</td></tr>\n",
       "\t<tr><th scope=row>34</th><td> Palestro</td><td>0.05020727</td><td>19.91744</td><td>Difficult</td><td>Easy</td><td>Expensive</td><td>Expensive</td><td>To be evaluated</td></tr>\n",
       "\t<tr><th scope=row>35</th><td> Bande Nere</td><td>0.05015591</td><td>19.93783</td><td>Medium</td><td>Easy</td><td>Normal</td><td>Normal</td><td>To be evaluated</td></tr>\n",
       "\t<tr><th scope=row>36</th><td> Moscova-Repubblica</td><td>0.04922476</td><td>20.31498</td><td>Difficult</td><td>Medium</td><td>Expensive</td><td>Expensive</td><td>To be evaluated</td></tr>\n",
       "\t<tr><th scope=row>37</th><td> Bligny-Toscana</td><td>0.04898988</td><td>20.41238</td><td>Difficult</td><td>Easy</td><td>Expensive</td><td>Expensive</td><td>To be evaluated</td></tr>\n",
       "\t<tr><th scope=row>38</th><td> Govone</td><td>0.04862304</td><td>20.56638</td><td>Difficult</td><td>Medium</td><td>Normal</td><td>Normal</td><td>To be evaluated</td></tr>\n",
       "\t<tr><th scope=row>39</th><td> Tribunale</td><td>0.04844849</td><td>20.64048</td><td>Difficult</td><td>Difficult</td><td>Expensive</td><td>Expensive</td><td>To be evaluated</td></tr>\n",
       "\t<tr><th scope=row>40</th><td> Abruzzi</td><td>0.04833984</td><td>20.68687</td><td>Difficult</td><td>Medium</td><td>Expensive</td><td>Expensive</td><td>To be evaluated</td></tr>\n",
       "\t<tr><th scope=row>41</th><td> Soderini</td><td>0.04790524</td><td>20.87454</td><td>Medium</td><td>Medium</td><td>Normal</td><td>Normal</td><td>To be evaluated</td></tr>\n",
       "\t<tr><th scope=row>42</th><td> Navigli-Porta Genova</td><td>0.04789918</td><td>20.87718</td><td>Easy</td><td>Medium</td><td>Expensive</td><td>Expensive</td><td>To be evaluated</td></tr>\n",
       "\t<tr><th scope=row>43</th><td> Centrale</td><td>0.04667803</td><td>21.42335</td><td>Medium</td><td>Medium</td><td>Expensive</td><td>Expensive</td><td>Recommended to rent</td></tr>\n",
       "\t<tr><th scope=row>44</th><td> San Siro</td><td>0.04651322</td><td>21.49926</td><td>Easy</td><td>Easy</td><td>Normal</td><td>Normal</td><td>Recommended to rent</td></tr>\n",
       "\t<tr><th scope=row>45</th><td> Mercalli-Quadronno</td><td>0.04624107</td><td>21.6258</td><td>Medium</td><td>Medium</td><td>Expensive</td><td>Expensive</td><td>Recommended to rent</td></tr>\n",
       "\t<tr><th scope=row>46</th><td> Indipendenza-Regina Giovanna</td><td>0.04609523</td><td>21.69422</td><td>Easy</td><td>Medium</td><td>Expensive</td><td>Expensive</td><td>Recommended to rent</td></tr>\n",
       "\t<tr><th scope=row>47</th><td> Romagna</td><td>0.04593919</td><td>21.76791</td><td>Difficult</td><td>Easy</td><td>Normal</td><td>Normal</td><td>Recommended to rent</td></tr>\n",
       "\t<tr><th scope=row>48</th><td> Cinque Giornate-Montenero-Libia</td><td>0.04561735</td><td>21.92148</td><td>Difficult</td><td>Easy</td><td>Expensive</td><td>Expensive</td><td>Recommended to rent</td></tr>\n",
       "\t<tr><th scope=row>49</th><td> Argonne-Corsica</td><td>0.04555963</td><td>21.94926</td><td>Easy</td><td>Medium</td><td>Normal</td><td>Normal</td><td>Recommended to rent</td></tr>\n",
       "\t<tr><th scope=row>50</th><td> Ariosto-Magenta</td><td>0.04532802</td><td>22.06141</td><td>Medium</td><td>Easy</td><td>Expensive</td><td>Expensive</td><td>Recommended to rent</td></tr>\n",
       "\t<tr><th scope=row>51</th><td> Fiera</td><td>0.04453812</td><td>22.45268</td><td>Medium</td><td>Easy</td><td>Normal</td><td>Expensive</td><td>Recommended to rent</td></tr>\n",
       "\t<tr><th scope=row>52</th><td> Solari-Savona-Tortona</td><td>0.04386717</td><td>22.79609</td><td>Easy</td><td>Easy</td><td>Normal</td><td>Expensive</td><td>Recommended to rent</td></tr>\n",
       "\t<tr><th scope=row>53</th><td> Sempione</td><td>0.04271451</td><td>23.41125</td><td>Medium</td><td>Medium</td><td>Expensive</td><td>Expensive</td><td>Recommended to rent</td></tr>\n",
       "\t<tr><th scope=row>54</th><td> Cenisio-Sarpi</td><td>0.04245566</td><td>23.55399</td><td>Medium</td><td>Easy</td><td>Normal</td><td>Expensive</td><td>Recommended to rent</td></tr>\n",
       "\t<tr><th scope=row>55</th><td> San Vittore-Washington</td><td>0.04148287</td><td>24.10633</td><td>Difficult</td><td>Difficult</td><td>Normal</td><td>Expensive</td><td>Recommended to rent</td></tr>\n",
       "\t<tr><th scope=row>56</th><td> Vetra-Missori</td><td>0.040891</td><td>24.45526</td><td>Easy</td><td>Difficult</td><td>Expensive</td><td>Expensive</td><td>Recommended to rent</td></tr>\n",
       "\t<tr><th scope=row>57</th><td>Appartamento in San Siro</td><td>0.04042092</td><td>24.73967</td><td>Difficult</td><td>Difficult</td><td>Normal</td><td>Expensive</td><td>Recommended to rent</td></tr>\n",
       "\t<tr><th scope=row>58</th><td> Portello-Tre Torri</td><td>0.03542079</td><td>28.23201</td><td>Medium</td><td>Medium</td><td>Normal</td><td>Expensive</td><td>Recommended to rent</td></tr>\n",
       "\t<tr><th scope=row>59</th><td> Milano Due</td><td>0.03552911</td><td>28.14594</td><td>Medium</td><td>Medium</td><td>Cheap</td><td>Normal</td><td>Recommended to rent</td></tr>\n",
       "</tbody>\n",
       "</table>\n"
      ],
      "text/latex": [
       "\\begin{tabular}{r|llllllll}\n",
       "  & area & gross_yield & rent_to_own_ratio & rent_difficulty_group & sale_difficulty_group & rent_price_group & sale_price_group & investment\\\\\n",
       "\\hline\n",
       "\t1 &  Turro & 0.08117513 & 12.31904 & Easy & Difficult & Normal & Cheap & Recommended to buy\\\\\n",
       "\t2 &  Quarto Oggiaro-Euromilano & 0.07737052 & 12.92482 & Easy & Easy & Cheap & Cheap & Recommended to buy\\\\\n",
       "\t3 &  CĂ  Granda & 0.0732123 & 13.65891 & Difficult & Medium & Normal & Cheap & Recommended to buy\\\\\n",
       "\t4 &  Rogoredo-Santa Giulia & 0.07206793 & 13.8758 & Difficult & Easy & Cheap & Cheap & Recommended to buy\\\\\n",
       "\t5 &  Gorla & 0.07100762 & 14.08299 & Easy & Easy & Normal & Cheap & Recommended to buy\\\\\n",
       "\t6 &  Corvetto & 0.06980334 & 14.32596 & Easy & Medium & Normal & Cheap & Recommended to buy\\\\\n",
       "\t7 &  Varesina-Testori & 0.06920326 & 14.45019 & Medium & Medium & Normal & Cheap & Recommended to buy\\\\\n",
       "\t8 &  Dergano & 0.06788529 & 14.73073 & Easy & Easy & Normal & Cheap & Recommended to buy\\\\\n",
       "\t9 &  Baggio & 0.06759183 & 14.79469 & Easy & Easy & Cheap & Cheap & Recommended to buy\\\\\n",
       "\t10 &  Chiesa Rossa & 0.06550028 & 15.26711 & Medium & Easy & Normal & Normal & To be evaluated\\\\\n",
       "\t11 &  Ortles & 0.06525688 & 15.32406 & Easy & Easy & Normal & Normal & To be evaluated\\\\\n",
       "\t12 &  Bovisa & 0.06488882 & 15.41098 & Medium & Difficult & Normal & Normal & To be evaluated\\\\\n",
       "\t13 &  Morgantini & 0.06439384 & 15.52944 & Medium & Easy & Normal & Normal & To be evaluated\\\\\n",
       "\t14 &  Teodosio-Porpora & 0.0638007 & 15.67381 & Easy & Easy & Normal & Normal & To be evaluated\\\\\n",
       "\t15 &  Accursio & 0.06286927 & 15.90602 & Medium & Easy & Normal & Normal & To be evaluated\\\\\n",
       "\t16 &  Niguarda & 0.06247038 & 16.00759 & Easy & Easy & Cheap & Cheap & To be evaluated\\\\\n",
       "\t17 &  Crescenzago & 0.0614982 & 16.26064 & Difficult & Easy & Cheap & Cheap & To be evaluated\\\\\n",
       "\t18 &  Gallaratese & 0.06147803 & 16.26597 & Medium & Easy & Cheap & Cheap & To be evaluated\\\\\n",
       "\t19 &  Brianza-Pasteur & 0.0613334 & 16.30433 & Medium & Medium & Normal & Normal & To be evaluated\\\\\n",
       "\t20 &  Mecenate & 0.06100496 & 16.39211 & Difficult & Medium & Normal & Normal & To be evaluated\\\\\n",
       "\t21 &  Udine & 0.05800261 & 17.2406 & Easy & Easy & Normal & Normal & To be evaluated\\\\\n",
       "\t22 &  Cermenate-Meda & 0.05794367 & 17.25814 & Easy & Easy & Normal & Normal & To be evaluated\\\\\n",
       "\t23 &  Vigentino & 0.0576288 & 17.35243 & Medium & Medium & Normal & Normal & To be evaluated\\\\\n",
       "\t24 &  Lorenteggio-Giambellino & 0.05743178 & 17.41196 & Easy & Easy & Cheap & Normal & To be evaluated\\\\\n",
       "\t25 &  Greco-Villaggio dei Giornalisti & 0.05699478 & 17.54547 & Medium & Easy & Normal & Normal & To be evaluated\\\\\n",
       "\t26 &  Naviglio Grande-Barona & 0.05691524 & 17.56999 & Medium & Medium & Normal & Normal & To be evaluated\\\\\n",
       "\t27 &  Istria & 0.05635493 & 17.74468 & Easy & Medium & Normal & Normal & To be evaluated\\\\\n",
       "\t28 &  Brenta & 0.05599517 & 17.85868 & Medium & Medium & Normal & Normal & To be evaluated\\\\\n",
       "\t29 &  Precotto & 0.05532225 & 18.07591 & Difficult & Medium & Cheap & Normal & To be evaluated\\\\\n",
       "\t30 &  Martini-Cuoco & 0.05341456 & 18.72149 & Difficult & Medium & Normal & Normal & To be evaluated\\\\\n",
       "\t31 &  CittĂ  Studi & 0.05224045 & 19.14225 & Easy & Easy & Normal & Normal & To be evaluated\\\\\n",
       "\t32 &  Bicocca & 0.05161391 & 19.37462 & Easy & Difficult & Cheap & Normal & To be evaluated\\\\\n",
       "\t33 &  Garibaldi-Isola & 0.05075049 & 19.70425 & Easy & Easy & Expensive & Expensive & To be evaluated\\\\\n",
       "\t34 &  Palestro & 0.05020727 & 19.91744 & Difficult & Easy & Expensive & Expensive & To be evaluated\\\\\n",
       "\t35 &  Bande Nere & 0.05015591 & 19.93783 & Medium & Easy & Normal & Normal & To be evaluated\\\\\n",
       "\t36 &  Moscova-Repubblica & 0.04922476 & 20.31498 & Difficult & Medium & Expensive & Expensive & To be evaluated\\\\\n",
       "\t37 &  Bligny-Toscana & 0.04898988 & 20.41238 & Difficult & Easy & Expensive & Expensive & To be evaluated\\\\\n",
       "\t38 &  Govone & 0.04862304 & 20.56638 & Difficult & Medium & Normal & Normal & To be evaluated\\\\\n",
       "\t39 &  Tribunale & 0.04844849 & 20.64048 & Difficult & Difficult & Expensive & Expensive & To be evaluated\\\\\n",
       "\t40 &  Abruzzi & 0.04833984 & 20.68687 & Difficult & Medium & Expensive & Expensive & To be evaluated\\\\\n",
       "\t41 &  Soderini & 0.04790524 & 20.87454 & Medium & Medium & Normal & Normal & To be evaluated\\\\\n",
       "\t42 &  Navigli-Porta Genova & 0.04789918 & 20.87718 & Easy & Medium & Expensive & Expensive & To be evaluated\\\\\n",
       "\t43 &  Centrale & 0.04667803 & 21.42335 & Medium & Medium & Expensive & Expensive & Recommended to rent\\\\\n",
       "\t44 &  San Siro & 0.04651322 & 21.49926 & Easy & Easy & Normal & Normal & Recommended to rent\\\\\n",
       "\t45 &  Mercalli-Quadronno & 0.04624107 & 21.6258 & Medium & Medium & Expensive & Expensive & Recommended to rent\\\\\n",
       "\t46 &  Indipendenza-Regina Giovanna & 0.04609523 & 21.69422 & Easy & Medium & Expensive & Expensive & Recommended to rent\\\\\n",
       "\t47 &  Romagna & 0.04593919 & 21.76791 & Difficult & Easy & Normal & Normal & Recommended to rent\\\\\n",
       "\t48 &  Cinque Giornate-Montenero-Libia & 0.04561735 & 21.92148 & Difficult & Easy & Expensive & Expensive & Recommended to rent\\\\\n",
       "\t49 &  Argonne-Corsica & 0.04555963 & 21.94926 & Easy & Medium & Normal & Normal & Recommended to rent\\\\\n",
       "\t50 &  Ariosto-Magenta & 0.04532802 & 22.06141 & Medium & Easy & Expensive & Expensive & Recommended to rent\\\\\n",
       "\t51 &  Fiera & 0.04453812 & 22.45268 & Medium & Easy & Normal & Expensive & Recommended to rent\\\\\n",
       "\t52 &  Solari-Savona-Tortona & 0.04386717 & 22.79609 & Easy & Easy & Normal & Expensive & Recommended to rent\\\\\n",
       "\t53 &  Sempione & 0.04271451 & 23.41125 & Medium & Medium & Expensive & Expensive & Recommended to rent\\\\\n",
       "\t54 &  Cenisio-Sarpi & 0.04245566 & 23.55399 & Medium & Easy & Normal & Expensive & Recommended to rent\\\\\n",
       "\t55 &  San Vittore-Washington & 0.04148287 & 24.10633 & Difficult & Difficult & Normal & Expensive & Recommended to rent\\\\\n",
       "\t56 &  Vetra-Missori & 0.040891 & 24.45526 & Easy & Difficult & Expensive & Expensive & Recommended to rent\\\\\n",
       "\t57 & Appartamento in San Siro & 0.04042092 & 24.73967 & Difficult & Difficult & Normal & Expensive & Recommended to rent\\\\\n",
       "\t58 &  Portello-Tre Torri & 0.03542079 & 28.23201 & Medium & Medium & Normal & Expensive & Recommended to rent\\\\\n",
       "\t59 &  Milano Due & 0.03552911 & 28.14594 & Medium & Medium & Cheap & Normal & Recommended to rent\\\\\n",
       "\\end{tabular}\n"
      ],
      "text/plain": [
       "Source: local data frame [59 x 8]\n",
       "Groups: <by row>\n",
       "\n",
       "                         area gross_yield rent_to_own_ratio\n",
       "                        (chr)       (dbl)             (dbl)\n",
       "1                       Turro  0.08117513          12.31904\n",
       "2   Quarto Oggiaro-Euromilano  0.07737052          12.92482\n",
       "3                  CĂ  Granda  0.07321230          13.65891\n",
       "4       Rogoredo-Santa Giulia  0.07206793          13.87580\n",
       "5                       Gorla  0.07100762          14.08299\n",
       "6                    Corvetto  0.06980334          14.32596\n",
       "7            Varesina-Testori  0.06920326          14.45019\n",
       "8                     Dergano  0.06788529          14.73073\n",
       "9                      Baggio  0.06759183          14.79469\n",
       "10               Chiesa Rossa  0.06550028          15.26711\n",
       "..                        ...         ...               ...\n",
       "Variables not shown: rent_difficulty_group (chr), sale_difficulty_group (chr),\n",
       "  rent_price_group (chr), sale_price_group (chr), investment (chr)"
      ]
     },
     "execution_count": 39,
     "metadata": {},
     "output_type": "execute_result"
    }
   ],
   "source": [
    "sale_stat<-sale_clean %>%\n",
    "           group_by(city,area) %>%\n",
    "           summarize(sale_count=n(), avg_sale_price=mean(min_price_sqm),\n",
    "                     sale_difficulty=mean(nr_ad)) %>%\n",
    "           filter(sale_count>=20)\n",
    "\n",
    "rent_stat<-rent_clean %>%\n",
    "           group_by(city,area) %>%\n",
    "           summarize(rent_count=n(), avg_rent_price=mean(min_price_sqm),\n",
    "                     rent_difficulty=mean(nr_ad)) %>%\n",
    "           filter(rent_count>=20)\n",
    "\n",
    "compare<-inner_join(sale_stat,rent_stat, by=c(\"city\",\"area\"))\n",
    "\n",
    "compare<-compare %>%\n",
    "         mutate(rent_to_own_ratio=avg_sale_price/(avg_rent_price*12),sale_per_rent_count=sale_count/rent_count,\n",
    "                gross_yield=avg_rent_price*12/avg_sale_price) %>%\n",
    "         arrange(desc(gross_yield))\n",
    "\n",
    "group_invest<- function(value){\n",
    "    if (value<15.0) return(\"Recommended to buy\")\n",
    "    if (value>21.0) return(\"Recommended to rent\")\n",
    "    return (\"To be evaluated\")\n",
    "}\n",
    "\n",
    "        \n",
    "difficulty<- function(value){\n",
    "    if (value<1.05) return(\"Easy\")\n",
    "    if (value>1.1) return(\"Difficult\")\n",
    "    return (\"Medium\")\n",
    "}\n",
    "        \n",
    "sale_group<- function(value){\n",
    "    if (value<2500) return(\"Cheap\")\n",
    "    if (value>4000) return(\"Expensive\")\n",
    "    return (\"Normal\")\n",
    "}\n",
    "        \n",
    "rent_group<- function(value){\n",
    "    if (value<13) return(\"Cheap\")\n",
    "    if (value>16) return(\"Expensive\")\n",
    "    return (\"Normal\")\n",
    "}\n",
    "  \n",
    "        \n",
    "compare<-compare %>% \n",
    "         rowwise() %>% \n",
    "         mutate(investment= group_invest(rent_to_own_ratio), rent_difficulty_group=difficulty(rent_difficulty),\n",
    "                sale_difficulty_group=difficulty(sale_difficulty), sale_price_group=sale_group(avg_sale_price),\n",
    "                rent_price_group=rent_group(avg_rent_price))\n",
    "\n",
    "compare %>%\n",
    "        select(area,gross_yield,rent_to_own_ratio,rent_difficulty_group,sale_difficulty_group,\n",
    "               rent_price_group,sale_price_group, investment)"
   ]
  },
  {
   "cell_type": "code",
   "execution_count": 40,
   "metadata": {
    "collapsed": false
   },
   "outputs": [],
   "source": [
    "write.csv(compare, file=\"compare.csv\")"
   ]
  },
  {
   "cell_type": "code",
   "execution_count": null,
   "metadata": {
    "collapsed": true
   },
   "outputs": [],
   "source": []
  }
 ],
 "metadata": {
  "anaconda-cloud": {},
  "hide_input": true,
  "kernelspec": {
   "display_name": "R",
   "language": "R",
   "name": "ir"
  },
  "language_info": {
   "codemirror_mode": "r",
   "file_extension": ".r",
   "mimetype": "text/x-r-source",
   "name": "R",
   "pygments_lexer": "r",
   "version": "3.2.2"
  }
 },
 "nbformat": 4,
 "nbformat_minor": 0
}
