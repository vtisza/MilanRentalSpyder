{
 "cells": [
  {
   "cell_type": "markdown",
   "metadata": {},
   "source": [
    "## Real estate investment in Milan"
   ]
  },
  {
   "cell_type": "code",
   "execution_count": 17,
   "metadata": {
    "collapsed": false
   },
   "outputs": [],
   "source": [
    "library(dplyr)"
   ]
  },
  {
   "cell_type": "code",
   "execution_count": 18,
   "metadata": {
    "collapsed": false
   },
   "outputs": [],
   "source": [
    "sale_raw<-read.csv2(\"result_ingatlan_sale.csv\", as.is=T, sep=\",\")\n",
    "rent_raw<-read.csv2(\"result_ingatlan_rent.csv\", as.is=T, sep=\",\")"
   ]
  },
  {
   "cell_type": "code",
   "execution_count": 19,
   "metadata": {
    "collapsed": false
   },
   "outputs": [
    {
     "data": {
      "text/html": [
       "<table>\n",
       "<thead><tr><th></th><th scope=col>rooms</th><th scope=col>size</th><th scope=col>lon</th><th scope=col>price</th><th scope=col>adress1</th><th scope=col>adress2</th><th scope=col>lan</th><th scope=col>adress3</th><th scope=col>date</th><th scope=col>rentid</th></tr></thead>\n",
       "<tbody>\n",
       "\t<tr><th scope=row>1</th><td>1</td><td>42</td><td>19.067871</td><td>110000</td><td>Boráros tér</td><td>Középső-Ferencváros – Malmok</td><td>47.48045</td><td>9. kerület, Budapest</td><td>2016-07-11 11:28:21</td><td>21966456</td></tr>\n",
       "\t<tr><th scope=row>2</th><td>4</td><td>116</td><td>19.054937</td><td>250000</td><td>Bajcsy-Zsilinszky út 5.</td><td>Belső-Terézváros</td><td>47.49846</td><td>6. kerület, Budapest</td><td>2016-07-10 02:11:06</td><td>22453322</td></tr>\n",
       "\t<tr><th scope=row>3</th><td>2 + 1</td><td>62</td><td>19.025272</td><td>220000</td><td>Toboz utca 2.</td><td>Mátyáshegy</td><td>47.53333</td><td>3. kerület, Budapest</td><td>2016-07-14 00:39:07</td><td>22353414</td></tr>\n",
       "\t<tr><th scope=row>4</th><td>3</td><td>71</td><td>19.03325</td><td>329438</td><td>Gellérthegy utca 8</td><td>Krisztinaváros</td><td>47.49581</td><td>1. kerület, Budapest</td><td>2016-06-30 02:18:09</td><td>22015959</td></tr>\n",
       "\t<tr><th scope=row>5</th><td>1</td><td>40</td><td>19.05703</td><td>100000</td><td>Dessewffy utca</td><td>Belső-Terézváros</td><td>47.50508</td><td>6. kerület, Budapest</td><td>2016-07-14 14:30:36</td><td>22484130</td></tr>\n",
       "\t<tr><th scope=row>6</th><td>2</td><td>52</td><td>19.188208</td><td>130000</td><td>Üllői út</td><td>Miklóstelep</td><td>47.439594</td><td>18. kerület, Budapest</td><td>2016-07-13 14:24:39</td><td>22481131</td></tr>\n",
       "</tbody>\n",
       "</table>\n"
      ],
      "text/latex": [
       "\\begin{tabular}{r|llllllllll}\n",
       "  & rooms & size & lon & price & adress1 & adress2 & lan & adress3 & date & rentid\\\\\n",
       "\\hline\n",
       "\t1 & 1 & 42 & 19.067871 & 110000 & Boráros tér & Középső-Ferencváros – Malmok & 47.48045 & 9. kerület, Budapest & 2016-07-11 11:28:21 & 21966456\\\\\n",
       "\t2 & 4 & 116 & 19.054937 & 250000 & Bajcsy-Zsilinszky út 5. & Belső-Terézváros & 47.49846 & 6. kerület, Budapest & 2016-07-10 02:11:06 & 22453322\\\\\n",
       "\t3 & 2 + 1 & 62 & 19.025272 & 220000 & Toboz utca 2. & Mátyáshegy & 47.53333 & 3. kerület, Budapest & 2016-07-14 00:39:07 & 22353414\\\\\n",
       "\t4 & 3 & 71 & 19.03325 & 329438 & Gellérthegy utca 8 & Krisztinaváros & 47.49581 & 1. kerület, Budapest & 2016-06-30 02:18:09 & 22015959\\\\\n",
       "\t5 & 1 & 40 & 19.05703 & 100000 & Dessewffy utca & Belső-Terézváros & 47.50508 & 6. kerület, Budapest & 2016-07-14 14:30:36 & 22484130\\\\\n",
       "\t6 & 2 & 52 & 19.188208 & 130000 & Üllői út & Miklóstelep & 47.439594 & 18. kerület, Budapest & 2016-07-13 14:24:39 & 22481131\\\\\n",
       "\\end{tabular}\n"
      ],
      "text/plain": [
       "  rooms size       lon  price                 adress1\n",
       "1     1   42 19.067871 110000             Boráros tér\n",
       "2     4  116 19.054937 250000 Bajcsy-Zsilinszky út 5.\n",
       "3 2 + 1   62 19.025272 220000           Toboz utca 2.\n",
       "4     3   71  19.03325 329438      Gellérthegy utca 8\n",
       "5     1   40  19.05703 100000          Dessewffy utca\n",
       "6     2   52 19.188208 130000                Üllői út\n",
       "                       adress2       lan               adress3\n",
       "1 Középső-Ferencváros – Malmok  47.48045  9. kerület, Budapest\n",
       "2             Belső-Terézváros  47.49846  6. kerület, Budapest\n",
       "3                   Mátyáshegy  47.53333  3. kerület, Budapest\n",
       "4               Krisztinaváros  47.49581  1. kerület, Budapest\n",
       "5             Belső-Terézváros  47.50508  6. kerület, Budapest\n",
       "6                  Miklóstelep 47.439594 18. kerület, Budapest\n",
       "                 date   rentid\n",
       "1 2016-07-11 11:28:21 21966456\n",
       "2 2016-07-10 02:11:06 22453322\n",
       "3 2016-07-14 00:39:07 22353414\n",
       "4 2016-06-30 02:18:09 22015959\n",
       "5 2016-07-14 14:30:36 22484130\n",
       "6 2016-07-13 14:24:39 22481131"
      ]
     },
     "execution_count": 19,
     "metadata": {},
     "output_type": "execute_result"
    }
   ],
   "source": [
    "head(rent_raw)"
   ]
  },
  {
   "cell_type": "code",
   "execution_count": 20,
   "metadata": {
    "collapsed": false
   },
   "outputs": [
    {
     "data": {
      "text/html": [
       "<table>\n",
       "<thead><tr><th></th><th scope=col>adress2</th><th scope=col>lan</th><th scope=col>rentid</th><th scope=col>date</th><th scope=col>size</th><th scope=col>rooms</th><th scope=col>price</th><th scope=col>adress1</th><th scope=col>lon</th><th scope=col>adress3</th></tr></thead>\n",
       "<tbody>\n",
       "\t<tr><th scope=row>1</th><td>Józsefváros – Corvinnegyed</td><td>47.48649</td><td>22277393</td><td>2016-04-22 17:28:13</td><td>75</td><td>3</td><td>49.9</td><td>Corvin köz</td><td>19.07121</td><td>8. kerület, Budapest</td></tr>\n",
       "\t<tr><th scope=row>2</th><td>Külső-Terézváros</td><td>47.513428</td><td>22460943</td><td>2016-07-04 19:05:42</td><td>40</td><td>1</td><td>16.5</td><td></td><td>19.066608</td><td>6. kerület, Budapest</td></tr>\n",
       "\t<tr><th scope=row>3</th><td>Lipótváros</td><td>47.50794</td><td>22463469</td><td>2016-07-05 17:00:51</td><td>74</td><td>2 + 1</td><td>36.5</td><td>Honvéd utca</td><td>19.049728</td><td>5. kerület, Budapest</td></tr>\n",
       "\t<tr><th scope=row>4</th><td>Albertfalva</td><td>47.44129</td><td>22455949</td><td>2016-07-01 15:00:59</td><td>45</td><td>1 + 1</td><td>23</td><td>Mezőkövesd út</td><td>19.03883</td><td>11. kerület, Budapest</td></tr>\n",
       "\t<tr><th scope=row>5</th><td>Kurucles</td><td>47.52306</td><td>22328864</td><td>2016-05-11 11:46:26</td><td>48</td><td>2</td><td>22.56</td><td>Hárshegyi út 5-7</td><td>18.96904</td><td>2. kerület, Budapest</td></tr>\n",
       "\t<tr><th scope=row>6</th><td>Kurucles</td><td>47.52306</td><td>22326046</td><td>2016-05-10 14:17:48</td><td>49</td><td>2</td><td>29.89</td><td>Hárshegyi út 5-7.</td><td>18.96904</td><td>2. kerület, Budapest</td></tr>\n",
       "</tbody>\n",
       "</table>\n"
      ],
      "text/latex": [
       "\\begin{tabular}{r|llllllllll}\n",
       "  & adress2 & lan & rentid & date & size & rooms & price & adress1 & lon & adress3\\\\\n",
       "\\hline\n",
       "\t1 & Józsefváros – Corvinnegyed & 47.48649 & 22277393 & 2016-04-22 17:28:13 & 75 & 3 & 49.9 & Corvin köz & 19.07121 & 8. kerület, Budapest\\\\\n",
       "\t2 & Külső-Terézváros & 47.513428 & 22460943 & 2016-07-04 19:05:42 & 40 & 1 & 16.5 &  & 19.066608 & 6. kerület, Budapest\\\\\n",
       "\t3 & Lipótváros & 47.50794 & 22463469 & 2016-07-05 17:00:51 & 74 & 2 + 1 & 36.5 & Honvéd utca & 19.049728 & 5. kerület, Budapest\\\\\n",
       "\t4 & Albertfalva & 47.44129 & 22455949 & 2016-07-01 15:00:59 & 45 & 1 + 1 & 23 & Mezőkövesd út & 19.03883 & 11. kerület, Budapest\\\\\n",
       "\t5 & Kurucles & 47.52306 & 22328864 & 2016-05-11 11:46:26 & 48 & 2 & 22.56 & Hárshegyi út 5-7 & 18.96904 & 2. kerület, Budapest\\\\\n",
       "\t6 & Kurucles & 47.52306 & 22326046 & 2016-05-10 14:17:48 & 49 & 2 & 29.89 & Hárshegyi út 5-7. & 18.96904 & 2. kerület, Budapest\\\\\n",
       "\\end{tabular}\n"
      ],
      "text/plain": [
       "                     adress2       lan   rentid                date size rooms\n",
       "1 Józsefváros – Corvinnegyed  47.48649 22277393 2016-04-22 17:28:13   75     3\n",
       "2           Külső-Terézváros 47.513428 22460943 2016-07-04 19:05:42   40     1\n",
       "3                 Lipótváros  47.50794 22463469 2016-07-05 17:00:51   74 2 + 1\n",
       "4                Albertfalva  47.44129 22455949 2016-07-01 15:00:59   45 1 + 1\n",
       "5                   Kurucles  47.52306 22328864 2016-05-11 11:46:26   48     2\n",
       "6                   Kurucles  47.52306 22326046 2016-05-10 14:17:48   49     2\n",
       "  price           adress1       lon               adress3\n",
       "1  49.9        Corvin köz  19.07121  8. kerület, Budapest\n",
       "2  16.5                   19.066608  6. kerület, Budapest\n",
       "3  36.5       Honvéd utca 19.049728  5. kerület, Budapest\n",
       "4    23     Mezőkövesd út  19.03883 11. kerület, Budapest\n",
       "5 22.56  Hárshegyi út 5-7  18.96904  2. kerület, Budapest\n",
       "6 29.89 Hárshegyi út 5-7.  18.96904  2. kerület, Budapest"
      ]
     },
     "execution_count": 20,
     "metadata": {},
     "output_type": "execute_result"
    }
   ],
   "source": [
    "head(sale_raw)"
   ]
  },
  {
   "cell_type": "code",
   "execution_count": 21,
   "metadata": {
    "collapsed": false,
    "run_control": {
     "marked": false
    }
   },
   "outputs": [],
   "source": [
    "sale_raw$price<-as.numeric(sale_raw$price)*1000000\n",
    "\n",
    "rent_raw$price_sqm<-rent_raw$price/rent_raw$size\n",
    "sale_raw$price_sqm<-sale_raw$price/sale_raw$size"
   ]
  },
  {
   "cell_type": "code",
   "execution_count": 22,
   "metadata": {
    "collapsed": false
   },
   "outputs": [],
   "source": [
    "sale_raw$address<-sapply(sale_raw$adress3,function(x) head(unlist(strsplit(x, \",\")),n=1)[1])\n",
    "rent_raw$address<-sapply(rent_raw$adress3,function(x) head(unlist(strsplit(x, \",\")),n=1)[1])"
   ]
  },
  {
   "cell_type": "code",
   "execution_count": 23,
   "metadata": {
    "collapsed": false
   },
   "outputs": [],
   "source": [
    "sale_clean<-sale_raw %>% \n",
    "            group_by(address,adress1, adress3, size, rooms) %>% \n",
    "            summarize(min_price_sqm=min(price_sqm),min_price=min(price),max_price_sqm=max(price_sqm),max_price=max(price),nr_ad=n())\n",
    "\n",
    "rent_clean<-rent_raw %>% \n",
    "            group_by(address,adress1, adress3, size, rooms) %>% \n",
    "            summarize(min_price_sqm=min(price_sqm),min_price=min(price),max_price_sqm=max(price_sqm),max_price=max(price),nr_ad=n())"
   ]
  },
  {
   "cell_type": "code",
   "execution_count": 24,
   "metadata": {
    "collapsed": false
   },
   "outputs": [
    {
     "data": {
      "text/html": [
       "<table>\n",
       "<thead><tr><th></th><th scope=col>address</th><th scope=col>adress1</th><th scope=col>adress3</th><th scope=col>size</th><th scope=col>rooms</th><th scope=col>min_price_sqm</th><th scope=col>min_price</th><th scope=col>max_price_sqm</th><th scope=col>max_price</th><th scope=col>nr_ad</th></tr></thead>\n",
       "<tbody>\n",
       "\t<tr><th scope=row>1</th><td>1. kerület</td><td></td><td>1. kerület, Budapest</td><td>18</td><td>1</td><td>697777.8</td><td>12560000</td><td>697777.8</td><td>12560000</td><td>1</td></tr>\n",
       "\t<tr><th scope=row>2</th><td>1. kerület</td><td></td><td>1. kerület, Budapest</td><td>24</td><td>1</td><td>702083.3</td><td>16850000</td><td>702083.3</td><td>16850000</td><td>1</td></tr>\n",
       "\t<tr><th scope=row>3</th><td>1. kerület</td><td></td><td>1. kerület, Budapest</td><td>26</td><td>1</td><td>688461.5</td><td>17900000</td><td>688461.5</td><td>17900000</td><td>3</td></tr>\n",
       "\t<tr><th scope=row>4</th><td>1. kerület</td><td></td><td>1. kerület, Budapest</td><td>27</td><td>1</td><td>511111.1</td><td>13800000</td><td>674074.1</td><td>18200000</td><td>6</td></tr>\n",
       "\t<tr><th scope=row>5</th><td>1. kerület</td><td></td><td>1. kerület, Budapest</td><td>28</td><td>1</td><td>607142.9</td><td>1.7e+07</td><td>607142.9</td><td>1.7e+07</td><td>1</td></tr>\n",
       "\t<tr><th scope=row>6</th><td>1. kerület</td><td></td><td>1. kerület, Budapest</td><td>29</td><td>1</td><td>706896.6</td><td>20500000</td><td>758620.7</td><td>2.2e+07</td><td>4</td></tr>\n",
       "</tbody>\n",
       "</table>\n"
      ],
      "text/latex": [
       "\\begin{tabular}{r|llllllllll}\n",
       "  & address & adress1 & adress3 & size & rooms & min_price_sqm & min_price & max_price_sqm & max_price & nr_ad\\\\\n",
       "\\hline\n",
       "\t1 & 1. kerület &  & 1. kerület, Budapest & 18 & 1 & 697777.8 & 12560000 & 697777.8 & 12560000 & 1\\\\\n",
       "\t2 & 1. kerület &  & 1. kerület, Budapest & 24 & 1 & 702083.3 & 16850000 & 702083.3 & 16850000 & 1\\\\\n",
       "\t3 & 1. kerület &  & 1. kerület, Budapest & 26 & 1 & 688461.5 & 17900000 & 688461.5 & 17900000 & 3\\\\\n",
       "\t4 & 1. kerület &  & 1. kerület, Budapest & 27 & 1 & 511111.1 & 13800000 & 674074.1 & 18200000 & 6\\\\\n",
       "\t5 & 1. kerület &  & 1. kerület, Budapest & 28 & 1 & 607142.9 & 1.7e+07 & 607142.9 & 1.7e+07 & 1\\\\\n",
       "\t6 & 1. kerület &  & 1. kerület, Budapest & 29 & 1 & 706896.6 & 20500000 & 758620.7 & 2.2e+07 & 4\\\\\n",
       "\\end{tabular}\n"
      ],
      "text/plain": [
       "Source: local data frame [6 x 10]\n",
       "Groups: address, adress1, adress3, size [6]\n",
       "\n",
       "     address adress1              adress3  size rooms min_price_sqm min_price\n",
       "       (chr)   (chr)                (chr) (dbl) (chr)         (dbl)     (dbl)\n",
       "1 1. kerület         1. kerület, Budapest    18     1      697777.8  12560000\n",
       "2 1. kerület         1. kerület, Budapest    24     1      702083.3  16850000\n",
       "3 1. kerület         1. kerület, Budapest    26     1      688461.5  17900000\n",
       "4 1. kerület         1. kerület, Budapest    27     1      511111.1  13800000\n",
       "5 1. kerület         1. kerület, Budapest    28     1      607142.9  17000000\n",
       "6 1. kerület         1. kerület, Budapest    29     1      706896.6  20500000\n",
       "Variables not shown: max_price_sqm (dbl), max_price (dbl), nr_ad (int)"
      ]
     },
     "execution_count": 24,
     "metadata": {},
     "output_type": "execute_result"
    }
   ],
   "source": [
    "head(sale_clean)"
   ]
  },
  {
   "cell_type": "code",
   "execution_count": 25,
   "metadata": {
    "collapsed": false
   },
   "outputs": [],
   "source": [
    "x <- sale_clean$min_price_sqm\n",
    "qnt <- quantile(x, probs=c(.25, .75), na.rm = T)\n",
    "caps <- quantile(x, probs=c(.05, .95), na.rm = T)\n",
    "H <- 1.5 * IQR(x, na.rm = T)\n",
    "sale_clean<-sale_clean[sale_clean$min_price_sqm > (qnt[1] - H),]\n",
    "sale_clean<-sale_clean[sale_clean$min_price_sqm < (qnt[2] + H),]\n",
    "\n",
    "x <- rent_clean$min_price_sqm\n",
    "qnt <- quantile(x, probs=c(.25, .75), na.rm = T)\n",
    "caps <- quantile(x, probs=c(.05, .95), na.rm = T)\n",
    "H <- 1.5 * IQR(x, na.rm = T)\n",
    "rent_clean<-rent_clean[rent_clean$min_price_sqm > (qnt[1] - H),]\n",
    "rent_clean<-rent_clean[rent_clean$min_price_sqm < (qnt[2] + H),]"
   ]
  },
  {
   "cell_type": "code",
   "execution_count": 26,
   "metadata": {
    "collapsed": false
   },
   "outputs": [
    {
     "data": {
      "text/html": [
       "<table>\n",
       "<thead><tr><th></th><th scope=col>address</th><th scope=col>gross_yield</th><th scope=col>rent_to_own_ratio</th><th scope=col>rent_difficulty_group</th><th scope=col>sale_difficulty_group</th><th scope=col>rent_price_group</th><th scope=col>sale_price_group</th><th scope=col>investment</th></tr></thead>\n",
       "<tbody>\n",
       "\t<tr><th scope=row>1</th><td>1. kerület</td><td>0.07019063</td><td>14.24692</td><td>NehĂ©z</td><td>KĂ¶zepes</td><td>DrĂˇga</td><td>DrĂˇga</td><td>BĂ©rlĂ©s ajĂˇnlott</td></tr>\n",
       "\t<tr><th scope=row>2</th><td>10. kerület</td><td>0.08932113</td><td>11.19556</td><td>KĂ¶nnyĹ±</td><td>KĂ¶zepes</td><td>KedvezĹ‘</td><td>KedvezĹ‘</td><td>VĂ©telre ajĂˇnlott</td></tr>\n",
       "\t<tr><th scope=row>3</th><td>11. kerület</td><td>0.06681098</td><td>14.9676</td><td>KĂ¶zepes</td><td>KĂ¶zepes</td><td>KĂ¶zepes</td><td>DrĂˇga</td><td>BĂ©rlĂ©s ajĂˇnlott</td></tr>\n",
       "\t<tr><th scope=row>4</th><td>12. kerület</td><td>0.06811785</td><td>14.68044</td><td>NehĂ©z</td><td>KĂ¶nnyĹ±</td><td>DrĂˇga</td><td>DrĂˇga</td><td>BĂ©rlĂ©s ajĂˇnlott</td></tr>\n",
       "\t<tr><th scope=row>5</th><td>13. kerület</td><td>0.07581177</td><td>13.19056</td><td>KĂ¶zepes</td><td>NehĂ©z</td><td>DrĂˇga</td><td>DrĂˇga</td><td>TovĂˇbbi Ă©rtĂ©kelĂ©s szĂĽksĂ©ges</td></tr>\n",
       "\t<tr><th scope=row>6</th><td>14. kerület</td><td>0.07366139</td><td>13.57563</td><td>KĂ¶zepes</td><td>NehĂ©z</td><td>KĂ¶zepes</td><td>KĂ¶zepes</td><td>TovĂˇbbi Ă©rtĂ©kelĂ©s szĂĽksĂ©ges</td></tr>\n",
       "\t<tr><th scope=row>7</th><td>15. kerület</td><td>0.0944093</td><td>10.59218</td><td>KĂ¶nnyĹ±</td><td>NehĂ©z</td><td>KedvezĹ‘</td><td>KedvezĹ‘</td><td>VĂ©telre ajĂˇnlott</td></tr>\n",
       "\t<tr><th scope=row>8</th><td>16. kerület</td><td>0.07613337</td><td>13.13485</td><td>KĂ¶nnyĹ±</td><td>KĂ¶nnyĹ±</td><td>KedvezĹ‘</td><td>KĂ¶zepes</td><td>TovĂˇbbi Ă©rtĂ©kelĂ©s szĂĽksĂ©ges</td></tr>\n",
       "\t<tr><th scope=row>9</th><td>18. kerület</td><td>0.07577119</td><td>13.19763</td><td>KĂ¶nnyĹ±</td><td>NehĂ©z</td><td>KedvezĹ‘</td><td>KedvezĹ‘</td><td>TovĂˇbbi Ă©rtĂ©kelĂ©s szĂĽksĂ©ges</td></tr>\n",
       "\t<tr><th scope=row>10</th><td>19. kerület</td><td>0.0976221</td><td>10.24358</td><td>KĂ¶nnyĹ±</td><td>KĂ¶nnyĹ±</td><td>KedvezĹ‘</td><td>KedvezĹ‘</td><td>VĂ©telre ajĂˇnlott</td></tr>\n",
       "\t<tr><th scope=row>11</th><td>2. kerület</td><td>0.06920704</td><td>14.4494</td><td>NehĂ©z</td><td>KĂ¶zepes</td><td>DrĂˇga</td><td>DrĂˇga</td><td>BĂ©rlĂ©s ajĂˇnlott</td></tr>\n",
       "\t<tr><th scope=row>12</th><td>20. kerület</td><td>0.09003726</td><td>11.10651</td><td>KĂ¶nnyĹ±</td><td>KĂ¶nnyĹ±</td><td>KedvezĹ‘</td><td>KedvezĹ‘</td><td>VĂ©telre ajĂˇnlott</td></tr>\n",
       "\t<tr><th scope=row>13</th><td>3. kerület</td><td>0.07696719</td><td>12.99255</td><td>KĂ¶zepes</td><td>NehĂ©z</td><td>DrĂˇga</td><td>KĂ¶zepes</td><td>TovĂˇbbi Ă©rtĂ©kelĂ©s szĂĽksĂ©ges</td></tr>\n",
       "\t<tr><th scope=row>14</th><td>4. kerület</td><td>0.08483352</td><td>11.78779</td><td>KĂ¶nnyĹ±</td><td>NehĂ©z</td><td>KedvezĹ‘</td><td>KedvezĹ‘</td><td>VĂ©telre ajĂˇnlott</td></tr>\n",
       "\t<tr><th scope=row>15</th><td>5. kerület</td><td>0.06134753</td><td>16.30057</td><td>NehĂ©z</td><td>KĂ¶nnyĹ±</td><td>DrĂˇga</td><td>DrĂˇga</td><td>BĂ©rlĂ©s ajĂˇnlott</td></tr>\n",
       "\t<tr><th scope=row>16</th><td>6. kerület</td><td>0.0712105</td><td>14.04287</td><td>NehĂ©z</td><td>KĂ¶zepes</td><td>DrĂˇga</td><td>DrĂˇga</td><td>BĂ©rlĂ©s ajĂˇnlott</td></tr>\n",
       "\t<tr><th scope=row>17</th><td>7. kerület</td><td>0.07436579</td><td>13.44704</td><td>NehĂ©z</td><td>KĂ¶zepes</td><td>KĂ¶zepes</td><td>DrĂˇga</td><td>TovĂˇbbi Ă©rtĂ©kelĂ©s szĂĽksĂ©ges</td></tr>\n",
       "\t<tr><th scope=row>18</th><td>8. kerület</td><td>0.09028433</td><td>11.07612</td><td>KĂ¶zepes</td><td>KĂ¶zepes</td><td>KĂ¶zepes</td><td>KĂ¶zepes</td><td>VĂ©telre ajĂˇnlott</td></tr>\n",
       "\t<tr><th scope=row>19</th><td>9. kerület</td><td>0.07280503</td><td>13.73531</td><td>NehĂ©z</td><td>KĂ¶nnyĹ±</td><td>KĂ¶zepes</td><td>DrĂˇga</td><td>TovĂˇbbi Ă©rtĂ©kelĂ©s szĂĽksĂ©ges</td></tr>\n",
       "</tbody>\n",
       "</table>\n"
      ],
      "text/latex": [
       "\\begin{tabular}{r|llllllll}\n",
       "  & address & gross_yield & rent_to_own_ratio & rent_difficulty_group & sale_difficulty_group & rent_price_group & sale_price_group & investment\\\\\n",
       "\\hline\n",
       "\t1 & 1. kerület & 0.07019063 & 14.24692 & NehĂ©z & KĂ¶zepes & DrĂˇga & DrĂˇga & BĂ©rlĂ©s ajĂˇnlott\\\\\n",
       "\t2 & 10. kerület & 0.08932113 & 11.19556 & KĂ¶nnyĹ± & KĂ¶zepes & KedvezĹ‘ & KedvezĹ‘ & VĂ©telre ajĂˇnlott\\\\\n",
       "\t3 & 11. kerület & 0.06681098 & 14.9676 & KĂ¶zepes & KĂ¶zepes & KĂ¶zepes & DrĂˇga & BĂ©rlĂ©s ajĂˇnlott\\\\\n",
       "\t4 & 12. kerület & 0.06811785 & 14.68044 & NehĂ©z & KĂ¶nnyĹ± & DrĂˇga & DrĂˇga & BĂ©rlĂ©s ajĂˇnlott\\\\\n",
       "\t5 & 13. kerület & 0.07581177 & 13.19056 & KĂ¶zepes & NehĂ©z & DrĂˇga & DrĂˇga & TovĂˇbbi Ă©rtĂ©kelĂ©s szĂĽksĂ©ges\\\\\n",
       "\t6 & 14. kerület & 0.07366139 & 13.57563 & KĂ¶zepes & NehĂ©z & KĂ¶zepes & KĂ¶zepes & TovĂˇbbi Ă©rtĂ©kelĂ©s szĂĽksĂ©ges\\\\\n",
       "\t7 & 15. kerület & 0.0944093 & 10.59218 & KĂ¶nnyĹ± & NehĂ©z & KedvezĹ‘ & KedvezĹ‘ & VĂ©telre ajĂˇnlott\\\\\n",
       "\t8 & 16. kerület & 0.07613337 & 13.13485 & KĂ¶nnyĹ± & KĂ¶nnyĹ± & KedvezĹ‘ & KĂ¶zepes & TovĂˇbbi Ă©rtĂ©kelĂ©s szĂĽksĂ©ges\\\\\n",
       "\t9 & 18. kerület & 0.07577119 & 13.19763 & KĂ¶nnyĹ± & NehĂ©z & KedvezĹ‘ & KedvezĹ‘ & TovĂˇbbi Ă©rtĂ©kelĂ©s szĂĽksĂ©ges\\\\\n",
       "\t10 & 19. kerület & 0.0976221 & 10.24358 & KĂ¶nnyĹ± & KĂ¶nnyĹ± & KedvezĹ‘ & KedvezĹ‘ & VĂ©telre ajĂˇnlott\\\\\n",
       "\t11 & 2. kerület & 0.06920704 & 14.4494 & NehĂ©z & KĂ¶zepes & DrĂˇga & DrĂˇga & BĂ©rlĂ©s ajĂˇnlott\\\\\n",
       "\t12 & 20. kerület & 0.09003726 & 11.10651 & KĂ¶nnyĹ± & KĂ¶nnyĹ± & KedvezĹ‘ & KedvezĹ‘ & VĂ©telre ajĂˇnlott\\\\\n",
       "\t13 & 3. kerület & 0.07696719 & 12.99255 & KĂ¶zepes & NehĂ©z & DrĂˇga & KĂ¶zepes & TovĂˇbbi Ă©rtĂ©kelĂ©s szĂĽksĂ©ges\\\\\n",
       "\t14 & 4. kerület & 0.08483352 & 11.78779 & KĂ¶nnyĹ± & NehĂ©z & KedvezĹ‘ & KedvezĹ‘ & VĂ©telre ajĂˇnlott\\\\\n",
       "\t15 & 5. kerület & 0.06134753 & 16.30057 & NehĂ©z & KĂ¶nnyĹ± & DrĂˇga & DrĂˇga & BĂ©rlĂ©s ajĂˇnlott\\\\\n",
       "\t16 & 6. kerület & 0.0712105 & 14.04287 & NehĂ©z & KĂ¶zepes & DrĂˇga & DrĂˇga & BĂ©rlĂ©s ajĂˇnlott\\\\\n",
       "\t17 & 7. kerület & 0.07436579 & 13.44704 & NehĂ©z & KĂ¶zepes & KĂ¶zepes & DrĂˇga & TovĂˇbbi Ă©rtĂ©kelĂ©s szĂĽksĂ©ges\\\\\n",
       "\t18 & 8. kerület & 0.09028433 & 11.07612 & KĂ¶zepes & KĂ¶zepes & KĂ¶zepes & KĂ¶zepes & VĂ©telre ajĂˇnlott\\\\\n",
       "\t19 & 9. kerület & 0.07280503 & 13.73531 & NehĂ©z & KĂ¶nnyĹ± & KĂ¶zepes & DrĂˇga & TovĂˇbbi Ă©rtĂ©kelĂ©s szĂĽksĂ©ges\\\\\n",
       "\\end{tabular}\n"
      ],
      "text/plain": [
       "Source: local data frame [19 x 8]\n",
       "\n",
       "       address gross_yield rent_to_own_ratio rent_difficulty_group\n",
       "         (chr)       (dbl)             (dbl)                 (chr)\n",
       "1   1. kerület  0.07019063          14.24692                NehĂ©z\n",
       "2  10. kerület  0.08932113          11.19556              KĂ¶nnyĹ±\n",
       "3  11. kerület  0.06681098          14.96760              KĂ¶zepes\n",
       "4  12. kerület  0.06811785          14.68044                NehĂ©z\n",
       "5  13. kerület  0.07581177          13.19056              KĂ¶zepes\n",
       "6  14. kerület  0.07366139          13.57563              KĂ¶zepes\n",
       "7  15. kerület  0.09440930          10.59218              KĂ¶nnyĹ±\n",
       "8  16. kerület  0.07613337          13.13485              KĂ¶nnyĹ±\n",
       "9  18. kerület  0.07577119          13.19763              KĂ¶nnyĹ±\n",
       "10 19. kerület  0.09762210          10.24358              KĂ¶nnyĹ±\n",
       "11  2. kerület  0.06920704          14.44940                NehĂ©z\n",
       "12 20. kerület  0.09003726          11.10651              KĂ¶nnyĹ±\n",
       "13  3. kerület  0.07696719          12.99255              KĂ¶zepes\n",
       "14  4. kerület  0.08483352          11.78779              KĂ¶nnyĹ±\n",
       "15  5. kerület  0.06134753          16.30057                NehĂ©z\n",
       "16  6. kerület  0.07121050          14.04287                NehĂ©z\n",
       "17  7. kerület  0.07436579          13.44704                NehĂ©z\n",
       "18  8. kerület  0.09028433          11.07612              KĂ¶zepes\n",
       "19  9. kerület  0.07280503          13.73531                NehĂ©z\n",
       "Variables not shown: sale_difficulty_group (chr), rent_price_group (chr),\n",
       "  sale_price_group (chr), investment (chr)"
      ]
     },
     "execution_count": 26,
     "metadata": {},
     "output_type": "execute_result"
    }
   ],
   "source": [
    "sale_stat<-sale_clean %>%\n",
    "           group_by(address) %>%\n",
    "           summarize(sale_count=n(), avg_sale_price=mean(min_price_sqm),\n",
    "                     sale_difficulty=mean(nr_ad)) %>%\n",
    "           filter(sale_count>=20)\n",
    "\n",
    "rent_stat<-rent_clean %>%\n",
    "           group_by(address) %>%\n",
    "           summarize(rent_count=n(), avg_rent_price=mean(min_price_sqm),\n",
    "                     rent_difficulty=mean(nr_ad)) %>%\n",
    "           filter(rent_count>=20)\n",
    "\n",
    "compare<-inner_join(sale_stat,rent_stat, by=c(\"address\"))\n",
    "\n",
    "compare<-compare %>%\n",
    "         mutate(rent_to_own_ratio=avg_sale_price/(avg_rent_price*12),sale_per_rent_count=sale_count/rent_count,\n",
    "                gross_yield=avg_rent_price*12/avg_sale_price) %>%\n",
    "         arrange(desc(gross_yield))\n",
    "\n",
    "group_invest<- function(value){\n",
    "    if (value<12.0) return(\"Vételre ajánlott\")\n",
    "    if (value>14.0) return(\"Bérlés ajánlott\")\n",
    "    return (\"További értékelés szükséges\")\n",
    "}\n",
    "\n",
    "        \n",
    "rent_difficulty<- function(value){\n",
    "    if (value<1.1) return(\"Könnyű\")\n",
    "    if (value>1.3) return(\"Nehéz\")\n",
    "    return (\"Közepes\")\n",
    "}\n",
    "        \n",
    " sale_difficulty<- function(value){\n",
    "    if (value<2.05) return(\"Könnyű\")\n",
    "    if (value>2.3) return(\"Nehéz\")\n",
    "    return (\"Közepes\")\n",
    "}\n",
    "        \n",
    "sale_group<- function(value){\n",
    "    if (value<350000) return(\"Kedvező\")\n",
    "    if (value>480000) return(\"Drága\")\n",
    "    return (\"Közepes\")\n",
    "}\n",
    "        \n",
    "rent_group<- function(value){\n",
    "    if (value<2500) return(\"Kedvező\")\n",
    "    if (value>3000) return(\"Drága\")\n",
    "    return (\"Közepes\")\n",
    "}\n",
    "  \n",
    "        \n",
    "compare<-compare %>% \n",
    "         rowwise() %>% \n",
    "         mutate(investment= group_invest(rent_to_own_ratio), rent_difficulty_group=rent_difficulty(rent_difficulty),\n",
    "                sale_difficulty_group=sale_difficulty(sale_difficulty), sale_price_group=sale_group(avg_sale_price),\n",
    "                rent_price_group=rent_group(avg_rent_price))\n",
    "\n",
    "compare %>%\n",
    "        select(address,gross_yield,rent_to_own_ratio,rent_difficulty_group,sale_difficulty_group,\n",
    "               rent_price_group,sale_price_group, investment) %>%\n",
    "        arrange(address)"
   ]
  },
  {
   "cell_type": "code",
   "execution_count": 27,
   "metadata": {
    "collapsed": false
   },
   "outputs": [
    {
     "ename": "ERROR",
     "evalue": "Error in write.table(compare, file = \"compare.csv\", encoding = \"UTF-8\", : unused argument (encoding = \"UTF-8\")\n",
     "output_type": "error",
     "traceback": [
      "Error in write.table(compare, file = \"compare.csv\", encoding = \"UTF-8\", : unused argument (encoding = \"UTF-8\")\n"
     ]
    }
   ],
   "source": [
    "write.csv(compare, file=\"compare.csv\", encoding=\"UTF-8\")"
   ]
  },
  {
   "cell_type": "code",
   "execution_count": null,
   "metadata": {
    "collapsed": true
   },
   "outputs": [],
   "source": []
  }
 ],
 "metadata": {
  "anaconda-cloud": {},
  "hide_input": true,
  "kernelspec": {
   "display_name": "R",
   "language": "R",
   "name": "ir"
  },
  "language_info": {
   "codemirror_mode": "r",
   "file_extension": ".r",
   "mimetype": "text/x-r-source",
   "name": "R",
   "pygments_lexer": "r",
   "version": "3.2.2"
  }
 },
 "nbformat": 4,
 "nbformat_minor": 0
}
